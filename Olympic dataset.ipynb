{
  "nbformat": 4,
  "nbformat_minor": 0,
  "metadata": {
    "colab": {
      "name": "Aniket_Ramdas_Mohite(python)_(3)FL.ipynb",
      "provenance": []
    },
    "kernelspec": {
      "name": "python3",
      "display_name": "Python 3"
    },
    "language_info": {
      "name": "python"
    }
  },
  "cells": [
    {
      "cell_type": "markdown",
      "source": [
        "#  Olympic dataset "
      ],
      "metadata": {
        "id": "ZZaXW9ESzM1B"
      }
    },
    {
      "cell_type": "markdown",
      "source": [
        "* **Importing all the** **libraries**\n"
      ],
      "metadata": {
        "id": "-CIMyZ_cySV-"
      }
    },
    {
      "cell_type": "code",
      "execution_count": 1,
      "metadata": {
        "id": "02l006Tox5Om"
      },
      "outputs": [],
      "source": [
        "from matplotlib import pyplot as plt\n",
        "import seaborn as sns\n",
        "import pandas as pd\n",
        "import numpy as np\n",
        "import re\n",
        "import random"
      ]
    },
    {
      "cell_type": "markdown",
      "source": [
        "* **Reading, exploring and cleaning the** **data**"
      ],
      "metadata": {
        "id": "5up7lvMuz1qa"
      }
    },
    {
      "cell_type": "code",
      "source": [
        "df = pd.read_csv('/content/olympix_data_organized_with_header (1).csv') #here I am reading the csv file in python using the pd.read_csv function in pandas library\n",
        "df"
      ],
      "metadata": {
        "colab": {
          "base_uri": "https://localhost:8080/",
          "height": 424
        },
        "id": "g4z1vsUu0Qq5",
        "outputId": "5e4263aa-3370-4d1f-d6bc-65540f3c6f73"
      },
      "execution_count": 2,
      "outputs": [
        {
          "output_type": "execute_result",
          "data": {
            "text/plain": [
              "                      name   age        country  year  Date_Given      sports  \\\n",
              "0           Michael Phelps  23.0  United States  2008   8/24/2008    Swimming   \n",
              "1           Michael Phelps  19.0  United States  2004   8/29/2004    Swimming   \n",
              "2           Michael Phelps  27.0  United States  2012  08-12-2012    Swimming   \n",
              "3         Natalie Coughlin  25.0  United States  2008   8/24/2008    Swimming   \n",
              "4            Aleksey Nemov  24.0         Russia  2000  10-01-2000  Gymnastics   \n",
              "...                    ...   ...            ...   ...         ...         ...   \n",
              "8613      Olena Sadovnycha  32.0        Ukraine  2000  10-01-2000     Archery   \n",
              "8614      Kateryna Serdiuk  17.0        Ukraine  2000  10-01-2000     Archery   \n",
              "8615      Wietse van Alten  21.0    Netherlands  2000  10-01-2000     Archery   \n",
              "8616  Sandra Wagner-Sachse  31.0        Germany  2000  10-01-2000     Archery   \n",
              "8617             Rod White  23.0  United States  2000  10-01-2000     Archery   \n",
              "\n",
              "      gold_medal  silver_medal  brone_medal  total_medal  \n",
              "0              8             0            0            8  \n",
              "1              6             0            2            8  \n",
              "2              4             2            0            6  \n",
              "3              1             2            3            6  \n",
              "4              2             1            3            6  \n",
              "...          ...           ...          ...          ...  \n",
              "8613           0             1            0            1  \n",
              "8614           0             1            0            1  \n",
              "8615           0             0            1            1  \n",
              "8616           0             0            1            1  \n",
              "8617           0             0            1            1  \n",
              "\n",
              "[8618 rows x 10 columns]"
            ],
            "text/html": [
              "\n",
              "  <div id=\"df-4bacdeca-a33e-416c-8840-0296f87b4d51\">\n",
              "    <div class=\"colab-df-container\">\n",
              "      <div>\n",
              "<style scoped>\n",
              "    .dataframe tbody tr th:only-of-type {\n",
              "        vertical-align: middle;\n",
              "    }\n",
              "\n",
              "    .dataframe tbody tr th {\n",
              "        vertical-align: top;\n",
              "    }\n",
              "\n",
              "    .dataframe thead th {\n",
              "        text-align: right;\n",
              "    }\n",
              "</style>\n",
              "<table border=\"1\" class=\"dataframe\">\n",
              "  <thead>\n",
              "    <tr style=\"text-align: right;\">\n",
              "      <th></th>\n",
              "      <th>name</th>\n",
              "      <th>age</th>\n",
              "      <th>country</th>\n",
              "      <th>year</th>\n",
              "      <th>Date_Given</th>\n",
              "      <th>sports</th>\n",
              "      <th>gold_medal</th>\n",
              "      <th>silver_medal</th>\n",
              "      <th>brone_medal</th>\n",
              "      <th>total_medal</th>\n",
              "    </tr>\n",
              "  </thead>\n",
              "  <tbody>\n",
              "    <tr>\n",
              "      <th>0</th>\n",
              "      <td>Michael Phelps</td>\n",
              "      <td>23.0</td>\n",
              "      <td>United States</td>\n",
              "      <td>2008</td>\n",
              "      <td>8/24/2008</td>\n",
              "      <td>Swimming</td>\n",
              "      <td>8</td>\n",
              "      <td>0</td>\n",
              "      <td>0</td>\n",
              "      <td>8</td>\n",
              "    </tr>\n",
              "    <tr>\n",
              "      <th>1</th>\n",
              "      <td>Michael Phelps</td>\n",
              "      <td>19.0</td>\n",
              "      <td>United States</td>\n",
              "      <td>2004</td>\n",
              "      <td>8/29/2004</td>\n",
              "      <td>Swimming</td>\n",
              "      <td>6</td>\n",
              "      <td>0</td>\n",
              "      <td>2</td>\n",
              "      <td>8</td>\n",
              "    </tr>\n",
              "    <tr>\n",
              "      <th>2</th>\n",
              "      <td>Michael Phelps</td>\n",
              "      <td>27.0</td>\n",
              "      <td>United States</td>\n",
              "      <td>2012</td>\n",
              "      <td>08-12-2012</td>\n",
              "      <td>Swimming</td>\n",
              "      <td>4</td>\n",
              "      <td>2</td>\n",
              "      <td>0</td>\n",
              "      <td>6</td>\n",
              "    </tr>\n",
              "    <tr>\n",
              "      <th>3</th>\n",
              "      <td>Natalie Coughlin</td>\n",
              "      <td>25.0</td>\n",
              "      <td>United States</td>\n",
              "      <td>2008</td>\n",
              "      <td>8/24/2008</td>\n",
              "      <td>Swimming</td>\n",
              "      <td>1</td>\n",
              "      <td>2</td>\n",
              "      <td>3</td>\n",
              "      <td>6</td>\n",
              "    </tr>\n",
              "    <tr>\n",
              "      <th>4</th>\n",
              "      <td>Aleksey Nemov</td>\n",
              "      <td>24.0</td>\n",
              "      <td>Russia</td>\n",
              "      <td>2000</td>\n",
              "      <td>10-01-2000</td>\n",
              "      <td>Gymnastics</td>\n",
              "      <td>2</td>\n",
              "      <td>1</td>\n",
              "      <td>3</td>\n",
              "      <td>6</td>\n",
              "    </tr>\n",
              "    <tr>\n",
              "      <th>...</th>\n",
              "      <td>...</td>\n",
              "      <td>...</td>\n",
              "      <td>...</td>\n",
              "      <td>...</td>\n",
              "      <td>...</td>\n",
              "      <td>...</td>\n",
              "      <td>...</td>\n",
              "      <td>...</td>\n",
              "      <td>...</td>\n",
              "      <td>...</td>\n",
              "    </tr>\n",
              "    <tr>\n",
              "      <th>8613</th>\n",
              "      <td>Olena Sadovnycha</td>\n",
              "      <td>32.0</td>\n",
              "      <td>Ukraine</td>\n",
              "      <td>2000</td>\n",
              "      <td>10-01-2000</td>\n",
              "      <td>Archery</td>\n",
              "      <td>0</td>\n",
              "      <td>1</td>\n",
              "      <td>0</td>\n",
              "      <td>1</td>\n",
              "    </tr>\n",
              "    <tr>\n",
              "      <th>8614</th>\n",
              "      <td>Kateryna Serdiuk</td>\n",
              "      <td>17.0</td>\n",
              "      <td>Ukraine</td>\n",
              "      <td>2000</td>\n",
              "      <td>10-01-2000</td>\n",
              "      <td>Archery</td>\n",
              "      <td>0</td>\n",
              "      <td>1</td>\n",
              "      <td>0</td>\n",
              "      <td>1</td>\n",
              "    </tr>\n",
              "    <tr>\n",
              "      <th>8615</th>\n",
              "      <td>Wietse van Alten</td>\n",
              "      <td>21.0</td>\n",
              "      <td>Netherlands</td>\n",
              "      <td>2000</td>\n",
              "      <td>10-01-2000</td>\n",
              "      <td>Archery</td>\n",
              "      <td>0</td>\n",
              "      <td>0</td>\n",
              "      <td>1</td>\n",
              "      <td>1</td>\n",
              "    </tr>\n",
              "    <tr>\n",
              "      <th>8616</th>\n",
              "      <td>Sandra Wagner-Sachse</td>\n",
              "      <td>31.0</td>\n",
              "      <td>Germany</td>\n",
              "      <td>2000</td>\n",
              "      <td>10-01-2000</td>\n",
              "      <td>Archery</td>\n",
              "      <td>0</td>\n",
              "      <td>0</td>\n",
              "      <td>1</td>\n",
              "      <td>1</td>\n",
              "    </tr>\n",
              "    <tr>\n",
              "      <th>8617</th>\n",
              "      <td>Rod White</td>\n",
              "      <td>23.0</td>\n",
              "      <td>United States</td>\n",
              "      <td>2000</td>\n",
              "      <td>10-01-2000</td>\n",
              "      <td>Archery</td>\n",
              "      <td>0</td>\n",
              "      <td>0</td>\n",
              "      <td>1</td>\n",
              "      <td>1</td>\n",
              "    </tr>\n",
              "  </tbody>\n",
              "</table>\n",
              "<p>8618 rows × 10 columns</p>\n",
              "</div>\n",
              "      <button class=\"colab-df-convert\" onclick=\"convertToInteractive('df-4bacdeca-a33e-416c-8840-0296f87b4d51')\"\n",
              "              title=\"Convert this dataframe to an interactive table.\"\n",
              "              style=\"display:none;\">\n",
              "        \n",
              "  <svg xmlns=\"http://www.w3.org/2000/svg\" height=\"24px\"viewBox=\"0 0 24 24\"\n",
              "       width=\"24px\">\n",
              "    <path d=\"M0 0h24v24H0V0z\" fill=\"none\"/>\n",
              "    <path d=\"M18.56 5.44l.94 2.06.94-2.06 2.06-.94-2.06-.94-.94-2.06-.94 2.06-2.06.94zm-11 1L8.5 8.5l.94-2.06 2.06-.94-2.06-.94L8.5 2.5l-.94 2.06-2.06.94zm10 10l.94 2.06.94-2.06 2.06-.94-2.06-.94-.94-2.06-.94 2.06-2.06.94z\"/><path d=\"M17.41 7.96l-1.37-1.37c-.4-.4-.92-.59-1.43-.59-.52 0-1.04.2-1.43.59L10.3 9.45l-7.72 7.72c-.78.78-.78 2.05 0 2.83L4 21.41c.39.39.9.59 1.41.59.51 0 1.02-.2 1.41-.59l7.78-7.78 2.81-2.81c.8-.78.8-2.07 0-2.86zM5.41 20L4 18.59l7.72-7.72 1.47 1.35L5.41 20z\"/>\n",
              "  </svg>\n",
              "      </button>\n",
              "      \n",
              "  <style>\n",
              "    .colab-df-container {\n",
              "      display:flex;\n",
              "      flex-wrap:wrap;\n",
              "      gap: 12px;\n",
              "    }\n",
              "\n",
              "    .colab-df-convert {\n",
              "      background-color: #E8F0FE;\n",
              "      border: none;\n",
              "      border-radius: 50%;\n",
              "      cursor: pointer;\n",
              "      display: none;\n",
              "      fill: #1967D2;\n",
              "      height: 32px;\n",
              "      padding: 0 0 0 0;\n",
              "      width: 32px;\n",
              "    }\n",
              "\n",
              "    .colab-df-convert:hover {\n",
              "      background-color: #E2EBFA;\n",
              "      box-shadow: 0px 1px 2px rgba(60, 64, 67, 0.3), 0px 1px 3px 1px rgba(60, 64, 67, 0.15);\n",
              "      fill: #174EA6;\n",
              "    }\n",
              "\n",
              "    [theme=dark] .colab-df-convert {\n",
              "      background-color: #3B4455;\n",
              "      fill: #D2E3FC;\n",
              "    }\n",
              "\n",
              "    [theme=dark] .colab-df-convert:hover {\n",
              "      background-color: #434B5C;\n",
              "      box-shadow: 0px 1px 3px 1px rgba(0, 0, 0, 0.15);\n",
              "      filter: drop-shadow(0px 1px 2px rgba(0, 0, 0, 0.3));\n",
              "      fill: #FFFFFF;\n",
              "    }\n",
              "  </style>\n",
              "\n",
              "      <script>\n",
              "        const buttonEl =\n",
              "          document.querySelector('#df-4bacdeca-a33e-416c-8840-0296f87b4d51 button.colab-df-convert');\n",
              "        buttonEl.style.display =\n",
              "          google.colab.kernel.accessAllowed ? 'block' : 'none';\n",
              "\n",
              "        async function convertToInteractive(key) {\n",
              "          const element = document.querySelector('#df-4bacdeca-a33e-416c-8840-0296f87b4d51');\n",
              "          const dataTable =\n",
              "            await google.colab.kernel.invokeFunction('convertToInteractive',\n",
              "                                                     [key], {});\n",
              "          if (!dataTable) return;\n",
              "\n",
              "          const docLinkHtml = 'Like what you see? Visit the ' +\n",
              "            '<a target=\"_blank\" href=https://colab.research.google.com/notebooks/data_table.ipynb>data table notebook</a>'\n",
              "            + ' to learn more about interactive tables.';\n",
              "          element.innerHTML = '';\n",
              "          dataTable['output_type'] = 'display_data';\n",
              "          await google.colab.output.renderOutput(dataTable, element);\n",
              "          const docLink = document.createElement('div');\n",
              "          docLink.innerHTML = docLinkHtml;\n",
              "          element.appendChild(docLink);\n",
              "        }\n",
              "      </script>\n",
              "    </div>\n",
              "  </div>\n",
              "  "
            ]
          },
          "metadata": {},
          "execution_count": 2
        }
      ]
    },
    {
      "cell_type": "code",
      "source": [
        "df.head().T # df.head() is used to display the first 5 rows of your dataset.You can also choose to display as many rows as you want by passing values inside \n",
        "#the parenthesis. For eg: df.head(15) will display the first 15 rows of your dataset"
      ],
      "metadata": {
        "colab": {
          "base_uri": "https://localhost:8080/",
          "height": 363
        },
        "id": "xppa_MpO1Pqd",
        "outputId": "d41cbb5f-d222-45fb-aff9-d55cfc6cc92e"
      },
      "execution_count": 3,
      "outputs": [
        {
          "output_type": "execute_result",
          "data": {
            "text/plain": [
              "                           0               1               2  \\\n",
              "name          Michael Phelps  Michael Phelps  Michael Phelps   \n",
              "age                     23.0            19.0            27.0   \n",
              "country        United States   United States   United States   \n",
              "year                    2008            2004            2012   \n",
              "Date_Given         8/24/2008       8/29/2004      08-12-2012   \n",
              "sports              Swimming        Swimming        Swimming   \n",
              "gold_medal                 8               6               4   \n",
              "silver_medal               0               0               2   \n",
              "brone_medal                0               2               0   \n",
              "total_medal                8               8               6   \n",
              "\n",
              "                             3              4  \n",
              "name          Natalie Coughlin  Aleksey Nemov  \n",
              "age                       25.0           24.0  \n",
              "country          United States         Russia  \n",
              "year                      2008           2000  \n",
              "Date_Given           8/24/2008     10-01-2000  \n",
              "sports                Swimming     Gymnastics  \n",
              "gold_medal                   1              2  \n",
              "silver_medal                 2              1  \n",
              "brone_medal                  3              3  \n",
              "total_medal                  6              6  "
            ],
            "text/html": [
              "\n",
              "  <div id=\"df-8dab91f1-17f7-4474-bc14-a446f81a59b7\">\n",
              "    <div class=\"colab-df-container\">\n",
              "      <div>\n",
              "<style scoped>\n",
              "    .dataframe tbody tr th:only-of-type {\n",
              "        vertical-align: middle;\n",
              "    }\n",
              "\n",
              "    .dataframe tbody tr th {\n",
              "        vertical-align: top;\n",
              "    }\n",
              "\n",
              "    .dataframe thead th {\n",
              "        text-align: right;\n",
              "    }\n",
              "</style>\n",
              "<table border=\"1\" class=\"dataframe\">\n",
              "  <thead>\n",
              "    <tr style=\"text-align: right;\">\n",
              "      <th></th>\n",
              "      <th>0</th>\n",
              "      <th>1</th>\n",
              "      <th>2</th>\n",
              "      <th>3</th>\n",
              "      <th>4</th>\n",
              "    </tr>\n",
              "  </thead>\n",
              "  <tbody>\n",
              "    <tr>\n",
              "      <th>name</th>\n",
              "      <td>Michael Phelps</td>\n",
              "      <td>Michael Phelps</td>\n",
              "      <td>Michael Phelps</td>\n",
              "      <td>Natalie Coughlin</td>\n",
              "      <td>Aleksey Nemov</td>\n",
              "    </tr>\n",
              "    <tr>\n",
              "      <th>age</th>\n",
              "      <td>23.0</td>\n",
              "      <td>19.0</td>\n",
              "      <td>27.0</td>\n",
              "      <td>25.0</td>\n",
              "      <td>24.0</td>\n",
              "    </tr>\n",
              "    <tr>\n",
              "      <th>country</th>\n",
              "      <td>United States</td>\n",
              "      <td>United States</td>\n",
              "      <td>United States</td>\n",
              "      <td>United States</td>\n",
              "      <td>Russia</td>\n",
              "    </tr>\n",
              "    <tr>\n",
              "      <th>year</th>\n",
              "      <td>2008</td>\n",
              "      <td>2004</td>\n",
              "      <td>2012</td>\n",
              "      <td>2008</td>\n",
              "      <td>2000</td>\n",
              "    </tr>\n",
              "    <tr>\n",
              "      <th>Date_Given</th>\n",
              "      <td>8/24/2008</td>\n",
              "      <td>8/29/2004</td>\n",
              "      <td>08-12-2012</td>\n",
              "      <td>8/24/2008</td>\n",
              "      <td>10-01-2000</td>\n",
              "    </tr>\n",
              "    <tr>\n",
              "      <th>sports</th>\n",
              "      <td>Swimming</td>\n",
              "      <td>Swimming</td>\n",
              "      <td>Swimming</td>\n",
              "      <td>Swimming</td>\n",
              "      <td>Gymnastics</td>\n",
              "    </tr>\n",
              "    <tr>\n",
              "      <th>gold_medal</th>\n",
              "      <td>8</td>\n",
              "      <td>6</td>\n",
              "      <td>4</td>\n",
              "      <td>1</td>\n",
              "      <td>2</td>\n",
              "    </tr>\n",
              "    <tr>\n",
              "      <th>silver_medal</th>\n",
              "      <td>0</td>\n",
              "      <td>0</td>\n",
              "      <td>2</td>\n",
              "      <td>2</td>\n",
              "      <td>1</td>\n",
              "    </tr>\n",
              "    <tr>\n",
              "      <th>brone_medal</th>\n",
              "      <td>0</td>\n",
              "      <td>2</td>\n",
              "      <td>0</td>\n",
              "      <td>3</td>\n",
              "      <td>3</td>\n",
              "    </tr>\n",
              "    <tr>\n",
              "      <th>total_medal</th>\n",
              "      <td>8</td>\n",
              "      <td>8</td>\n",
              "      <td>6</td>\n",
              "      <td>6</td>\n",
              "      <td>6</td>\n",
              "    </tr>\n",
              "  </tbody>\n",
              "</table>\n",
              "</div>\n",
              "      <button class=\"colab-df-convert\" onclick=\"convertToInteractive('df-8dab91f1-17f7-4474-bc14-a446f81a59b7')\"\n",
              "              title=\"Convert this dataframe to an interactive table.\"\n",
              "              style=\"display:none;\">\n",
              "        \n",
              "  <svg xmlns=\"http://www.w3.org/2000/svg\" height=\"24px\"viewBox=\"0 0 24 24\"\n",
              "       width=\"24px\">\n",
              "    <path d=\"M0 0h24v24H0V0z\" fill=\"none\"/>\n",
              "    <path d=\"M18.56 5.44l.94 2.06.94-2.06 2.06-.94-2.06-.94-.94-2.06-.94 2.06-2.06.94zm-11 1L8.5 8.5l.94-2.06 2.06-.94-2.06-.94L8.5 2.5l-.94 2.06-2.06.94zm10 10l.94 2.06.94-2.06 2.06-.94-2.06-.94-.94-2.06-.94 2.06-2.06.94z\"/><path d=\"M17.41 7.96l-1.37-1.37c-.4-.4-.92-.59-1.43-.59-.52 0-1.04.2-1.43.59L10.3 9.45l-7.72 7.72c-.78.78-.78 2.05 0 2.83L4 21.41c.39.39.9.59 1.41.59.51 0 1.02-.2 1.41-.59l7.78-7.78 2.81-2.81c.8-.78.8-2.07 0-2.86zM5.41 20L4 18.59l7.72-7.72 1.47 1.35L5.41 20z\"/>\n",
              "  </svg>\n",
              "      </button>\n",
              "      \n",
              "  <style>\n",
              "    .colab-df-container {\n",
              "      display:flex;\n",
              "      flex-wrap:wrap;\n",
              "      gap: 12px;\n",
              "    }\n",
              "\n",
              "    .colab-df-convert {\n",
              "      background-color: #E8F0FE;\n",
              "      border: none;\n",
              "      border-radius: 50%;\n",
              "      cursor: pointer;\n",
              "      display: none;\n",
              "      fill: #1967D2;\n",
              "      height: 32px;\n",
              "      padding: 0 0 0 0;\n",
              "      width: 32px;\n",
              "    }\n",
              "\n",
              "    .colab-df-convert:hover {\n",
              "      background-color: #E2EBFA;\n",
              "      box-shadow: 0px 1px 2px rgba(60, 64, 67, 0.3), 0px 1px 3px 1px rgba(60, 64, 67, 0.15);\n",
              "      fill: #174EA6;\n",
              "    }\n",
              "\n",
              "    [theme=dark] .colab-df-convert {\n",
              "      background-color: #3B4455;\n",
              "      fill: #D2E3FC;\n",
              "    }\n",
              "\n",
              "    [theme=dark] .colab-df-convert:hover {\n",
              "      background-color: #434B5C;\n",
              "      box-shadow: 0px 1px 3px 1px rgba(0, 0, 0, 0.15);\n",
              "      filter: drop-shadow(0px 1px 2px rgba(0, 0, 0, 0.3));\n",
              "      fill: #FFFFFF;\n",
              "    }\n",
              "  </style>\n",
              "\n",
              "      <script>\n",
              "        const buttonEl =\n",
              "          document.querySelector('#df-8dab91f1-17f7-4474-bc14-a446f81a59b7 button.colab-df-convert');\n",
              "        buttonEl.style.display =\n",
              "          google.colab.kernel.accessAllowed ? 'block' : 'none';\n",
              "\n",
              "        async function convertToInteractive(key) {\n",
              "          const element = document.querySelector('#df-8dab91f1-17f7-4474-bc14-a446f81a59b7');\n",
              "          const dataTable =\n",
              "            await google.colab.kernel.invokeFunction('convertToInteractive',\n",
              "                                                     [key], {});\n",
              "          if (!dataTable) return;\n",
              "\n",
              "          const docLinkHtml = 'Like what you see? Visit the ' +\n",
              "            '<a target=\"_blank\" href=https://colab.research.google.com/notebooks/data_table.ipynb>data table notebook</a>'\n",
              "            + ' to learn more about interactive tables.';\n",
              "          element.innerHTML = '';\n",
              "          dataTable['output_type'] = 'display_data';\n",
              "          await google.colab.output.renderOutput(dataTable, element);\n",
              "          const docLink = document.createElement('div');\n",
              "          docLink.innerHTML = docLinkHtml;\n",
              "          element.appendChild(docLink);\n",
              "        }\n",
              "      </script>\n",
              "    </div>\n",
              "  </div>\n",
              "  "
            ]
          },
          "metadata": {},
          "execution_count": 3
        }
      ]
    },
    {
      "cell_type": "code",
      "source": [
        "df.shape #df.shape gives the number of rows and columns in your dataset. This dataset has 8618 rows and 10 columns"
      ],
      "metadata": {
        "colab": {
          "base_uri": "https://localhost:8080/"
        },
        "id": "cNjuQ4Sl12Lm",
        "outputId": "e9b67c84-6d2a-4eb1-d505-28a91b87617e"
      },
      "execution_count": 4,
      "outputs": [
        {
          "output_type": "execute_result",
          "data": {
            "text/plain": [
              "(8618, 10)"
            ]
          },
          "metadata": {},
          "execution_count": 4
        }
      ]
    },
    {
      "cell_type": "code",
      "source": [
        "cols=df.columns #df.columns is used to display the all the columns in your dataset.Here I have printed the names of the columns in a list format by using\n",
        "#print(list(cols))\n",
        "print(list(cols))"
      ],
      "metadata": {
        "colab": {
          "base_uri": "https://localhost:8080/"
        },
        "id": "dT66WvWa1_VT",
        "outputId": "72ed636f-857a-4a07-f1c0-fbc5c9a17df4"
      },
      "execution_count": null,
      "outputs": [
        {
          "output_type": "stream",
          "name": "stdout",
          "text": [
            "['name', 'age', 'country', 'year', 'Date_Given', 'sports', 'gold_medal', 'silver_medal', 'brone_medal', 'total_medal']\n"
          ]
        }
      ]
    },
    {
      "cell_type": "code",
      "source": [
        "df.info() #here df.info() displays the column names, their datatypes & their non-null count which clearly shows that there are some missing values in name and age column."
      ],
      "metadata": {
        "colab": {
          "base_uri": "https://localhost:8080/"
        },
        "id": "9U6VNxueVcwB",
        "outputId": "fb375e84-f716-4550-e870-7255a18f80bc"
      },
      "execution_count": 5,
      "outputs": [
        {
          "output_type": "stream",
          "name": "stdout",
          "text": [
            "<class 'pandas.core.frame.DataFrame'>\n",
            "RangeIndex: 8618 entries, 0 to 8617\n",
            "Data columns (total 10 columns):\n",
            " #   Column        Non-Null Count  Dtype  \n",
            "---  ------        --------------  -----  \n",
            " 0   name          8613 non-null   object \n",
            " 1   age           8613 non-null   float64\n",
            " 2   country       8618 non-null   object \n",
            " 3   year          8618 non-null   int64  \n",
            " 4   Date_Given    8618 non-null   object \n",
            " 5   sports        8618 non-null   object \n",
            " 6   gold_medal    8618 non-null   int64  \n",
            " 7   silver_medal  8618 non-null   int64  \n",
            " 8   brone_medal   8618 non-null   int64  \n",
            " 9   total_medal   8618 non-null   int64  \n",
            "dtypes: float64(1), int64(5), object(4)\n",
            "memory usage: 673.4+ KB\n"
          ]
        }
      ]
    },
    {
      "cell_type": "code",
      "source": [
        "df.index #this gives us the first and last index of the dataset"
      ],
      "metadata": {
        "colab": {
          "base_uri": "https://localhost:8080/"
        },
        "id": "KH53TlZkWXGf",
        "outputId": "a5b4736e-d109-4f5f-de24-5b6deb9b35ff"
      },
      "execution_count": null,
      "outputs": [
        {
          "output_type": "execute_result",
          "data": {
            "text/plain": [
              "RangeIndex(start=0, stop=8618, step=1)"
            ]
          },
          "metadata": {},
          "execution_count": 7
        }
      ]
    },
    {
      "cell_type": "code",
      "source": [
        "df.describe() #this command gives us the numerical measures for the numerical columns as seen below"
      ],
      "metadata": {
        "colab": {
          "base_uri": "https://localhost:8080/",
          "height": 279
        },
        "id": "b6bluN8XWlvD",
        "outputId": "6e08e8aa-eae5-4d35-aee5-2af4cc12b203"
      },
      "execution_count": null,
      "outputs": [
        {
          "output_type": "execute_result",
          "data": {
            "text/plain": [
              "               age         year   gold_medal  silver_medal  brone_medal  \\\n",
              "count  8613.000000  8618.000000  8618.000000   8618.000000  8618.000000   \n",
              "mean     26.405434  2005.978881     0.364702      0.363309     0.377698   \n",
              "std       5.102118     4.289946     0.545349      0.511613     0.505005   \n",
              "min      15.000000  2000.000000     0.000000      0.000000     0.000000   \n",
              "25%      23.000000  2002.000000     0.000000      0.000000     0.000000   \n",
              "50%      26.000000  2006.000000     0.000000      0.000000     0.000000   \n",
              "75%      29.000000  2010.000000     1.000000      1.000000     1.000000   \n",
              "max      61.000000  2012.000000     8.000000      3.000000     3.000000   \n",
              "\n",
              "       total_medal  \n",
              "count  8618.000000  \n",
              "mean      1.105709  \n",
              "std       0.408892  \n",
              "min       1.000000  \n",
              "25%       1.000000  \n",
              "50%       1.000000  \n",
              "75%       1.000000  \n",
              "max       8.000000  "
            ],
            "text/html": [
              "\n",
              "  <div id=\"df-db14e0c9-675f-4456-81f1-bc3ae31b3624\">\n",
              "    <div class=\"colab-df-container\">\n",
              "      <div>\n",
              "<style scoped>\n",
              "    .dataframe tbody tr th:only-of-type {\n",
              "        vertical-align: middle;\n",
              "    }\n",
              "\n",
              "    .dataframe tbody tr th {\n",
              "        vertical-align: top;\n",
              "    }\n",
              "\n",
              "    .dataframe thead th {\n",
              "        text-align: right;\n",
              "    }\n",
              "</style>\n",
              "<table border=\"1\" class=\"dataframe\">\n",
              "  <thead>\n",
              "    <tr style=\"text-align: right;\">\n",
              "      <th></th>\n",
              "      <th>age</th>\n",
              "      <th>year</th>\n",
              "      <th>gold_medal</th>\n",
              "      <th>silver_medal</th>\n",
              "      <th>brone_medal</th>\n",
              "      <th>total_medal</th>\n",
              "    </tr>\n",
              "  </thead>\n",
              "  <tbody>\n",
              "    <tr>\n",
              "      <th>count</th>\n",
              "      <td>8613.000000</td>\n",
              "      <td>8618.000000</td>\n",
              "      <td>8618.000000</td>\n",
              "      <td>8618.000000</td>\n",
              "      <td>8618.000000</td>\n",
              "      <td>8618.000000</td>\n",
              "    </tr>\n",
              "    <tr>\n",
              "      <th>mean</th>\n",
              "      <td>26.405434</td>\n",
              "      <td>2005.978881</td>\n",
              "      <td>0.364702</td>\n",
              "      <td>0.363309</td>\n",
              "      <td>0.377698</td>\n",
              "      <td>1.105709</td>\n",
              "    </tr>\n",
              "    <tr>\n",
              "      <th>std</th>\n",
              "      <td>5.102118</td>\n",
              "      <td>4.289946</td>\n",
              "      <td>0.545349</td>\n",
              "      <td>0.511613</td>\n",
              "      <td>0.505005</td>\n",
              "      <td>0.408892</td>\n",
              "    </tr>\n",
              "    <tr>\n",
              "      <th>min</th>\n",
              "      <td>15.000000</td>\n",
              "      <td>2000.000000</td>\n",
              "      <td>0.000000</td>\n",
              "      <td>0.000000</td>\n",
              "      <td>0.000000</td>\n",
              "      <td>1.000000</td>\n",
              "    </tr>\n",
              "    <tr>\n",
              "      <th>25%</th>\n",
              "      <td>23.000000</td>\n",
              "      <td>2002.000000</td>\n",
              "      <td>0.000000</td>\n",
              "      <td>0.000000</td>\n",
              "      <td>0.000000</td>\n",
              "      <td>1.000000</td>\n",
              "    </tr>\n",
              "    <tr>\n",
              "      <th>50%</th>\n",
              "      <td>26.000000</td>\n",
              "      <td>2006.000000</td>\n",
              "      <td>0.000000</td>\n",
              "      <td>0.000000</td>\n",
              "      <td>0.000000</td>\n",
              "      <td>1.000000</td>\n",
              "    </tr>\n",
              "    <tr>\n",
              "      <th>75%</th>\n",
              "      <td>29.000000</td>\n",
              "      <td>2010.000000</td>\n",
              "      <td>1.000000</td>\n",
              "      <td>1.000000</td>\n",
              "      <td>1.000000</td>\n",
              "      <td>1.000000</td>\n",
              "    </tr>\n",
              "    <tr>\n",
              "      <th>max</th>\n",
              "      <td>61.000000</td>\n",
              "      <td>2012.000000</td>\n",
              "      <td>8.000000</td>\n",
              "      <td>3.000000</td>\n",
              "      <td>3.000000</td>\n",
              "      <td>8.000000</td>\n",
              "    </tr>\n",
              "  </tbody>\n",
              "</table>\n",
              "</div>\n",
              "      <button class=\"colab-df-convert\" onclick=\"convertToInteractive('df-db14e0c9-675f-4456-81f1-bc3ae31b3624')\"\n",
              "              title=\"Convert this dataframe to an interactive table.\"\n",
              "              style=\"display:none;\">\n",
              "        \n",
              "  <svg xmlns=\"http://www.w3.org/2000/svg\" height=\"24px\"viewBox=\"0 0 24 24\"\n",
              "       width=\"24px\">\n",
              "    <path d=\"M0 0h24v24H0V0z\" fill=\"none\"/>\n",
              "    <path d=\"M18.56 5.44l.94 2.06.94-2.06 2.06-.94-2.06-.94-.94-2.06-.94 2.06-2.06.94zm-11 1L8.5 8.5l.94-2.06 2.06-.94-2.06-.94L8.5 2.5l-.94 2.06-2.06.94zm10 10l.94 2.06.94-2.06 2.06-.94-2.06-.94-.94-2.06-.94 2.06-2.06.94z\"/><path d=\"M17.41 7.96l-1.37-1.37c-.4-.4-.92-.59-1.43-.59-.52 0-1.04.2-1.43.59L10.3 9.45l-7.72 7.72c-.78.78-.78 2.05 0 2.83L4 21.41c.39.39.9.59 1.41.59.51 0 1.02-.2 1.41-.59l7.78-7.78 2.81-2.81c.8-.78.8-2.07 0-2.86zM5.41 20L4 18.59l7.72-7.72 1.47 1.35L5.41 20z\"/>\n",
              "  </svg>\n",
              "      </button>\n",
              "      \n",
              "  <style>\n",
              "    .colab-df-container {\n",
              "      display:flex;\n",
              "      flex-wrap:wrap;\n",
              "      gap: 12px;\n",
              "    }\n",
              "\n",
              "    .colab-df-convert {\n",
              "      background-color: #E8F0FE;\n",
              "      border: none;\n",
              "      border-radius: 50%;\n",
              "      cursor: pointer;\n",
              "      display: none;\n",
              "      fill: #1967D2;\n",
              "      height: 32px;\n",
              "      padding: 0 0 0 0;\n",
              "      width: 32px;\n",
              "    }\n",
              "\n",
              "    .colab-df-convert:hover {\n",
              "      background-color: #E2EBFA;\n",
              "      box-shadow: 0px 1px 2px rgba(60, 64, 67, 0.3), 0px 1px 3px 1px rgba(60, 64, 67, 0.15);\n",
              "      fill: #174EA6;\n",
              "    }\n",
              "\n",
              "    [theme=dark] .colab-df-convert {\n",
              "      background-color: #3B4455;\n",
              "      fill: #D2E3FC;\n",
              "    }\n",
              "\n",
              "    [theme=dark] .colab-df-convert:hover {\n",
              "      background-color: #434B5C;\n",
              "      box-shadow: 0px 1px 3px 1px rgba(0, 0, 0, 0.15);\n",
              "      filter: drop-shadow(0px 1px 2px rgba(0, 0, 0, 0.3));\n",
              "      fill: #FFFFFF;\n",
              "    }\n",
              "  </style>\n",
              "\n",
              "      <script>\n",
              "        const buttonEl =\n",
              "          document.querySelector('#df-db14e0c9-675f-4456-81f1-bc3ae31b3624 button.colab-df-convert');\n",
              "        buttonEl.style.display =\n",
              "          google.colab.kernel.accessAllowed ? 'block' : 'none';\n",
              "\n",
              "        async function convertToInteractive(key) {\n",
              "          const element = document.querySelector('#df-db14e0c9-675f-4456-81f1-bc3ae31b3624');\n",
              "          const dataTable =\n",
              "            await google.colab.kernel.invokeFunction('convertToInteractive',\n",
              "                                                     [key], {});\n",
              "          if (!dataTable) return;\n",
              "\n",
              "          const docLinkHtml = 'Like what you see? Visit the ' +\n",
              "            '<a target=\"_blank\" href=https://colab.research.google.com/notebooks/data_table.ipynb>data table notebook</a>'\n",
              "            + ' to learn more about interactive tables.';\n",
              "          element.innerHTML = '';\n",
              "          dataTable['output_type'] = 'display_data';\n",
              "          await google.colab.output.renderOutput(dataTable, element);\n",
              "          const docLink = document.createElement('div');\n",
              "          docLink.innerHTML = docLinkHtml;\n",
              "          element.appendChild(docLink);\n",
              "        }\n",
              "      </script>\n",
              "    </div>\n",
              "  </div>\n",
              "  "
            ]
          },
          "metadata": {},
          "execution_count": 8
        }
      ]
    },
    {
      "cell_type": "code",
      "source": [
        "df.describe(include='all') #this command gives some additional numerical measures such as unique,top,frequency for the numerical columns as seen below"
      ],
      "metadata": {
        "colab": {
          "base_uri": "https://localhost:8080/",
          "height": 344
        },
        "id": "_MpESGDOW8w4",
        "outputId": "826c28b9-ea37-4f43-f805-990aaac4b184"
      },
      "execution_count": null,
      "outputs": [
        {
          "output_type": "execute_result",
          "data": {
            "text/plain": [
              "              name          age        country         year Date_Given  \\\n",
              "count         8613  8613.000000           8618  8618.000000       8618   \n",
              "unique        6955          NaN            110          NaN          7   \n",
              "top     Matt Wells          NaN  United States          NaN  8/24/2008   \n",
              "freq             4          NaN           1109          NaN       1872   \n",
              "mean           NaN    26.405434            NaN  2005.978881        NaN   \n",
              "std            NaN     5.102118            NaN     4.289946        NaN   \n",
              "min            NaN    15.000000            NaN  2000.000000        NaN   \n",
              "25%            NaN    23.000000            NaN  2002.000000        NaN   \n",
              "50%            NaN    26.000000            NaN  2006.000000        NaN   \n",
              "75%            NaN    29.000000            NaN  2010.000000        NaN   \n",
              "max            NaN    61.000000            NaN  2012.000000        NaN   \n",
              "\n",
              "           sports   gold_medal  silver_medal  brone_medal  total_medal  \n",
              "count        8618  8618.000000   8618.000000  8618.000000  8618.000000  \n",
              "unique         49          NaN           NaN          NaN          NaN  \n",
              "top     Athletics          NaN           NaN          NaN          NaN  \n",
              "freq          687          NaN           NaN          NaN          NaN  \n",
              "mean          NaN     0.364702      0.363309     0.377698     1.105709  \n",
              "std           NaN     0.545349      0.511613     0.505005     0.408892  \n",
              "min           NaN     0.000000      0.000000     0.000000     1.000000  \n",
              "25%           NaN     0.000000      0.000000     0.000000     1.000000  \n",
              "50%           NaN     0.000000      0.000000     0.000000     1.000000  \n",
              "75%           NaN     1.000000      1.000000     1.000000     1.000000  \n",
              "max           NaN     8.000000      3.000000     3.000000     8.000000  "
            ],
            "text/html": [
              "\n",
              "  <div id=\"df-a2737e10-d12a-4ac4-8de1-fec12eb7a995\">\n",
              "    <div class=\"colab-df-container\">\n",
              "      <div>\n",
              "<style scoped>\n",
              "    .dataframe tbody tr th:only-of-type {\n",
              "        vertical-align: middle;\n",
              "    }\n",
              "\n",
              "    .dataframe tbody tr th {\n",
              "        vertical-align: top;\n",
              "    }\n",
              "\n",
              "    .dataframe thead th {\n",
              "        text-align: right;\n",
              "    }\n",
              "</style>\n",
              "<table border=\"1\" class=\"dataframe\">\n",
              "  <thead>\n",
              "    <tr style=\"text-align: right;\">\n",
              "      <th></th>\n",
              "      <th>name</th>\n",
              "      <th>age</th>\n",
              "      <th>country</th>\n",
              "      <th>year</th>\n",
              "      <th>Date_Given</th>\n",
              "      <th>sports</th>\n",
              "      <th>gold_medal</th>\n",
              "      <th>silver_medal</th>\n",
              "      <th>brone_medal</th>\n",
              "      <th>total_medal</th>\n",
              "    </tr>\n",
              "  </thead>\n",
              "  <tbody>\n",
              "    <tr>\n",
              "      <th>count</th>\n",
              "      <td>8613</td>\n",
              "      <td>8613.000000</td>\n",
              "      <td>8618</td>\n",
              "      <td>8618.000000</td>\n",
              "      <td>8618</td>\n",
              "      <td>8618</td>\n",
              "      <td>8618.000000</td>\n",
              "      <td>8618.000000</td>\n",
              "      <td>8618.000000</td>\n",
              "      <td>8618.000000</td>\n",
              "    </tr>\n",
              "    <tr>\n",
              "      <th>unique</th>\n",
              "      <td>6955</td>\n",
              "      <td>NaN</td>\n",
              "      <td>110</td>\n",
              "      <td>NaN</td>\n",
              "      <td>7</td>\n",
              "      <td>49</td>\n",
              "      <td>NaN</td>\n",
              "      <td>NaN</td>\n",
              "      <td>NaN</td>\n",
              "      <td>NaN</td>\n",
              "    </tr>\n",
              "    <tr>\n",
              "      <th>top</th>\n",
              "      <td>Matt Wells</td>\n",
              "      <td>NaN</td>\n",
              "      <td>United States</td>\n",
              "      <td>NaN</td>\n",
              "      <td>8/24/2008</td>\n",
              "      <td>Athletics</td>\n",
              "      <td>NaN</td>\n",
              "      <td>NaN</td>\n",
              "      <td>NaN</td>\n",
              "      <td>NaN</td>\n",
              "    </tr>\n",
              "    <tr>\n",
              "      <th>freq</th>\n",
              "      <td>4</td>\n",
              "      <td>NaN</td>\n",
              "      <td>1109</td>\n",
              "      <td>NaN</td>\n",
              "      <td>1872</td>\n",
              "      <td>687</td>\n",
              "      <td>NaN</td>\n",
              "      <td>NaN</td>\n",
              "      <td>NaN</td>\n",
              "      <td>NaN</td>\n",
              "    </tr>\n",
              "    <tr>\n",
              "      <th>mean</th>\n",
              "      <td>NaN</td>\n",
              "      <td>26.405434</td>\n",
              "      <td>NaN</td>\n",
              "      <td>2005.978881</td>\n",
              "      <td>NaN</td>\n",
              "      <td>NaN</td>\n",
              "      <td>0.364702</td>\n",
              "      <td>0.363309</td>\n",
              "      <td>0.377698</td>\n",
              "      <td>1.105709</td>\n",
              "    </tr>\n",
              "    <tr>\n",
              "      <th>std</th>\n",
              "      <td>NaN</td>\n",
              "      <td>5.102118</td>\n",
              "      <td>NaN</td>\n",
              "      <td>4.289946</td>\n",
              "      <td>NaN</td>\n",
              "      <td>NaN</td>\n",
              "      <td>0.545349</td>\n",
              "      <td>0.511613</td>\n",
              "      <td>0.505005</td>\n",
              "      <td>0.408892</td>\n",
              "    </tr>\n",
              "    <tr>\n",
              "      <th>min</th>\n",
              "      <td>NaN</td>\n",
              "      <td>15.000000</td>\n",
              "      <td>NaN</td>\n",
              "      <td>2000.000000</td>\n",
              "      <td>NaN</td>\n",
              "      <td>NaN</td>\n",
              "      <td>0.000000</td>\n",
              "      <td>0.000000</td>\n",
              "      <td>0.000000</td>\n",
              "      <td>1.000000</td>\n",
              "    </tr>\n",
              "    <tr>\n",
              "      <th>25%</th>\n",
              "      <td>NaN</td>\n",
              "      <td>23.000000</td>\n",
              "      <td>NaN</td>\n",
              "      <td>2002.000000</td>\n",
              "      <td>NaN</td>\n",
              "      <td>NaN</td>\n",
              "      <td>0.000000</td>\n",
              "      <td>0.000000</td>\n",
              "      <td>0.000000</td>\n",
              "      <td>1.000000</td>\n",
              "    </tr>\n",
              "    <tr>\n",
              "      <th>50%</th>\n",
              "      <td>NaN</td>\n",
              "      <td>26.000000</td>\n",
              "      <td>NaN</td>\n",
              "      <td>2006.000000</td>\n",
              "      <td>NaN</td>\n",
              "      <td>NaN</td>\n",
              "      <td>0.000000</td>\n",
              "      <td>0.000000</td>\n",
              "      <td>0.000000</td>\n",
              "      <td>1.000000</td>\n",
              "    </tr>\n",
              "    <tr>\n",
              "      <th>75%</th>\n",
              "      <td>NaN</td>\n",
              "      <td>29.000000</td>\n",
              "      <td>NaN</td>\n",
              "      <td>2010.000000</td>\n",
              "      <td>NaN</td>\n",
              "      <td>NaN</td>\n",
              "      <td>1.000000</td>\n",
              "      <td>1.000000</td>\n",
              "      <td>1.000000</td>\n",
              "      <td>1.000000</td>\n",
              "    </tr>\n",
              "    <tr>\n",
              "      <th>max</th>\n",
              "      <td>NaN</td>\n",
              "      <td>61.000000</td>\n",
              "      <td>NaN</td>\n",
              "      <td>2012.000000</td>\n",
              "      <td>NaN</td>\n",
              "      <td>NaN</td>\n",
              "      <td>8.000000</td>\n",
              "      <td>3.000000</td>\n",
              "      <td>3.000000</td>\n",
              "      <td>8.000000</td>\n",
              "    </tr>\n",
              "  </tbody>\n",
              "</table>\n",
              "</div>\n",
              "      <button class=\"colab-df-convert\" onclick=\"convertToInteractive('df-a2737e10-d12a-4ac4-8de1-fec12eb7a995')\"\n",
              "              title=\"Convert this dataframe to an interactive table.\"\n",
              "              style=\"display:none;\">\n",
              "        \n",
              "  <svg xmlns=\"http://www.w3.org/2000/svg\" height=\"24px\"viewBox=\"0 0 24 24\"\n",
              "       width=\"24px\">\n",
              "    <path d=\"M0 0h24v24H0V0z\" fill=\"none\"/>\n",
              "    <path d=\"M18.56 5.44l.94 2.06.94-2.06 2.06-.94-2.06-.94-.94-2.06-.94 2.06-2.06.94zm-11 1L8.5 8.5l.94-2.06 2.06-.94-2.06-.94L8.5 2.5l-.94 2.06-2.06.94zm10 10l.94 2.06.94-2.06 2.06-.94-2.06-.94-.94-2.06-.94 2.06-2.06.94z\"/><path d=\"M17.41 7.96l-1.37-1.37c-.4-.4-.92-.59-1.43-.59-.52 0-1.04.2-1.43.59L10.3 9.45l-7.72 7.72c-.78.78-.78 2.05 0 2.83L4 21.41c.39.39.9.59 1.41.59.51 0 1.02-.2 1.41-.59l7.78-7.78 2.81-2.81c.8-.78.8-2.07 0-2.86zM5.41 20L4 18.59l7.72-7.72 1.47 1.35L5.41 20z\"/>\n",
              "  </svg>\n",
              "      </button>\n",
              "      \n",
              "  <style>\n",
              "    .colab-df-container {\n",
              "      display:flex;\n",
              "      flex-wrap:wrap;\n",
              "      gap: 12px;\n",
              "    }\n",
              "\n",
              "    .colab-df-convert {\n",
              "      background-color: #E8F0FE;\n",
              "      border: none;\n",
              "      border-radius: 50%;\n",
              "      cursor: pointer;\n",
              "      display: none;\n",
              "      fill: #1967D2;\n",
              "      height: 32px;\n",
              "      padding: 0 0 0 0;\n",
              "      width: 32px;\n",
              "    }\n",
              "\n",
              "    .colab-df-convert:hover {\n",
              "      background-color: #E2EBFA;\n",
              "      box-shadow: 0px 1px 2px rgba(60, 64, 67, 0.3), 0px 1px 3px 1px rgba(60, 64, 67, 0.15);\n",
              "      fill: #174EA6;\n",
              "    }\n",
              "\n",
              "    [theme=dark] .colab-df-convert {\n",
              "      background-color: #3B4455;\n",
              "      fill: #D2E3FC;\n",
              "    }\n",
              "\n",
              "    [theme=dark] .colab-df-convert:hover {\n",
              "      background-color: #434B5C;\n",
              "      box-shadow: 0px 1px 3px 1px rgba(0, 0, 0, 0.15);\n",
              "      filter: drop-shadow(0px 1px 2px rgba(0, 0, 0, 0.3));\n",
              "      fill: #FFFFFF;\n",
              "    }\n",
              "  </style>\n",
              "\n",
              "      <script>\n",
              "        const buttonEl =\n",
              "          document.querySelector('#df-a2737e10-d12a-4ac4-8de1-fec12eb7a995 button.colab-df-convert');\n",
              "        buttonEl.style.display =\n",
              "          google.colab.kernel.accessAllowed ? 'block' : 'none';\n",
              "\n",
              "        async function convertToInteractive(key) {\n",
              "          const element = document.querySelector('#df-a2737e10-d12a-4ac4-8de1-fec12eb7a995');\n",
              "          const dataTable =\n",
              "            await google.colab.kernel.invokeFunction('convertToInteractive',\n",
              "                                                     [key], {});\n",
              "          if (!dataTable) return;\n",
              "\n",
              "          const docLinkHtml = 'Like what you see? Visit the ' +\n",
              "            '<a target=\"_blank\" href=https://colab.research.google.com/notebooks/data_table.ipynb>data table notebook</a>'\n",
              "            + ' to learn more about interactive tables.';\n",
              "          element.innerHTML = '';\n",
              "          dataTable['output_type'] = 'display_data';\n",
              "          await google.colab.output.renderOutput(dataTable, element);\n",
              "          const docLink = document.createElement('div');\n",
              "          docLink.innerHTML = docLinkHtml;\n",
              "          element.appendChild(docLink);\n",
              "        }\n",
              "      </script>\n",
              "    </div>\n",
              "  </div>\n",
              "  "
            ]
          },
          "metadata": {},
          "execution_count": 9
        }
      ]
    },
    {
      "cell_type": "code",
      "source": [
        "df.dtypes #gives the datatypes of the columns."
      ],
      "metadata": {
        "colab": {
          "base_uri": "https://localhost:8080/"
        },
        "id": "fracStxPXgyC",
        "outputId": "b54ba3e9-59c9-470a-ecaf-e540f00bac5e"
      },
      "execution_count": 6,
      "outputs": [
        {
          "output_type": "execute_result",
          "data": {
            "text/plain": [
              "name             object\n",
              "age             float64\n",
              "country          object\n",
              "year              int64\n",
              "Date_Given       object\n",
              "sports           object\n",
              "gold_medal        int64\n",
              "silver_medal      int64\n",
              "brone_medal       int64\n",
              "total_medal       int64\n",
              "dtype: object"
            ]
          },
          "metadata": {},
          "execution_count": 6
        }
      ]
    },
    {
      "cell_type": "code",
      "source": [
        "#Typecasting :changing one datetype to another\n",
        "#'Age' column I had a doubt whether it should be int64 or float64 but a person can be 26 years and 4 months old which equals to 26.4 so float64 datatype for age column is correct.\n",
        "# If you want to change the datatype of the columns in your dataset the syntax  is as follows:\n",
        "df = df.astype({'column_name_1':'datatype_1','column_name_2':'datatype_2'})# datatypes: object,float64,int64"
      ],
      "metadata": {
        "id": "EwwoRulHgODR"
      },
      "execution_count": null,
      "outputs": []
    },
    {
      "cell_type": "code",
      "source": [
        "df.nunique() #gives the number of unique values in each column which gives us an idea whether or not to drop the columns.We drop the columns based on two\n",
        "             #conditions: a.If all the values in a column are unique\n",
        "             #            b.If a column has recurring values .For example:Column [country]:('India','India','India'.......)"
      ],
      "metadata": {
        "colab": {
          "base_uri": "https://localhost:8080/"
        },
        "id": "aynowes6YdMJ",
        "outputId": "a9c00f7a-0c4b-4f19-92f2-ec2863a85390"
      },
      "execution_count": null,
      "outputs": [
        {
          "output_type": "execute_result",
          "data": {
            "text/plain": [
              "name            6955\n",
              "age               42\n",
              "country          110\n",
              "year               7\n",
              "Date_Given         7\n",
              "sports            49\n",
              "gold_medal         7\n",
              "silver_medal       4\n",
              "brone_medal        4\n",
              "total_medal        7\n",
              "dtype: int64"
            ]
          },
          "metadata": {},
          "execution_count": 16
        }
      ]
    },
    {
      "cell_type": "code",
      "source": [
        "df.value_counts('name') # gives the count of unique values in categorical column.In this case the categorical column is name   \n",
        "df['name'].unique() #gives the unique values in categorical columns\n",
        "\n",
        "df.value_counts('country') # gives the count of unique values in categorical column.In this case the categorical column is country   \n",
        "df['country'].unique() #gives the unique values in categorical columns\n",
        "\n",
        "df.value_counts('sports') # gives the count of unique values in categorical column.In this case the categorical column is sports   \n",
        "df['sports'].unique() #gives the unique values in categorical columns"
      ],
      "metadata": {
        "colab": {
          "base_uri": "https://localhost:8080/"
        },
        "id": "oMtiWr_ld125",
        "outputId": "9864b8ff-a07b-4361-8ffc-ce19c66e9f5c"
      },
      "execution_count": 8,
      "outputs": [
        {
          "output_type": "execute_result",
          "data": {
            "text/plain": [
              "array(['Swimming', 'Gymnastics', 'Speed Skating', 'Cross Country Skiing',\n",
              "       'Short-Track Speed Skating', 'Diving', 'Cycling', 'Biathlon',\n",
              "       'Alpine Skiing', 'Ski Jumping', 'Nordic Combined', 'Athletics',\n",
              "       'Table Tennis', 'Tennis', 'Synchronized Swimming', 'Shooting',\n",
              "       'Rowing', 'Fencing', 'Equestrian', 'Canoeing', 'Bobsleigh',\n",
              "       'Badminton', 'Archery', 'Wrestling', 'Weightlifting', 'Waterpolo',\n",
              "       'Volleyball', 'Triathlon', 'Trampoline', 'Taekwondo', 'Softball',\n",
              "       'Snowboarding', 'Skeleton', 'Sailing', 'Rhythmic Gymnastics',\n",
              "       'Modern Pentathlon', 'Luge', 'Judo', 'Ice Hockey', 'Hockey',\n",
              "       'Handball', 'Football', 'Figure Skating', 'Freestyle Skiing',\n",
              "       'Curling', 'Baseball', 'Boxing', 'Beach Volleyball', 'Basketball'],\n",
              "      dtype=object)"
            ]
          },
          "metadata": {},
          "execution_count": 8
        }
      ]
    },
    {
      "cell_type": "markdown",
      "source": [
        "* Missing value treatment"
      ],
      "metadata": {
        "id": "le0w65kHQ3qN"
      }
    },
    {
      "cell_type": "code",
      "source": [
        "\n",
        "df.isnull().sum() #gives the count of missing values in each column\n",
        "# In this dataset it clearly signifies that there are 5 missing values in the name & age column\n",
        "\n",
        "\n"
      ],
      "metadata": {
        "colab": {
          "base_uri": "https://localhost:8080/"
        },
        "id": "7SvkIi_idplT",
        "outputId": "ef90cd79-0b23-4c80-baac-dbead8f4bbf5"
      },
      "execution_count": 45,
      "outputs": [
        {
          "output_type": "execute_result",
          "data": {
            "text/plain": [
              "name            0\n",
              "age             0\n",
              "country         0\n",
              "year            0\n",
              "Date_Given      0\n",
              "sports          0\n",
              "gold_medal      0\n",
              "silver_medal    0\n",
              "total_medal     0\n",
              "bronze_medal    0\n",
              "dtype: int64"
            ]
          },
          "metadata": {},
          "execution_count": 45
        }
      ]
    },
    {
      "cell_type": "code",
      "source": [
        "df['name'].fillna(method='ffill',inplace=True) #Here I have used 'ffill' method to fill the missing values in name column.'ffill' fills the NaN values with \n",
        "#the value above it"
      ],
      "metadata": {
        "id": "gAID45GZkKXN"
      },
      "execution_count": 41,
      "outputs": []
    },
    {
      "cell_type": "code",
      "source": [
        "df['age'].fillna(df['age'].mean(),inplace=True) #fills the missing values in age column with the average value of age.It is numerical column named 'age' hence I used .mean() to fill the missing values"
      ],
      "metadata": {
        "id": "WrgOVAe-kz0x"
      },
      "execution_count": 42,
      "outputs": []
    },
    {
      "cell_type": "code",
      "source": [
        "df['bronze_medal']=df['brone_medal'] #Created new column 'bronze_medal' as 'brone_medal' spelling is wrong"
      ],
      "metadata": {
        "id": "SeOIcXxlvXNq"
      },
      "execution_count": 43,
      "outputs": []
    },
    {
      "cell_type": "code",
      "source": [
        "df.drop('brone_medal',axis=1,inplace=True) #dropped the old column 'brone_medal'"
      ],
      "metadata": {
        "id": "2qKgDGgtvzh_"
      },
      "execution_count": 44,
      "outputs": []
    },
    {
      "cell_type": "markdown",
      "source": [
        "* Outlier Analysis"
      ],
      "metadata": {
        "id": "Pbc1A5ncXG5B"
      }
    },
    {
      "cell_type": "code",
      "source": [
        "#Outlier Analysis can be performed only on numerical columns and it can be performed one numerical column at a time\n",
        "df.boxplot('year') #Boxplot allows us to detect the outliers visually and as seen there are no outliers in the year column"
      ],
      "metadata": {
        "colab": {
          "base_uri": "https://localhost:8080/",
          "height": 282
        },
        "id": "_WqAkDuaufwO",
        "outputId": "288b0f52-209d-4851-c992-1096837b2b65"
      },
      "execution_count": null,
      "outputs": [
        {
          "output_type": "execute_result",
          "data": {
            "text/plain": [
              "<matplotlib.axes._subplots.AxesSubplot at 0x7f23f36f3990>"
            ]
          },
          "metadata": {},
          "execution_count": 17
        },
        {
          "output_type": "display_data",
          "data": {
            "text/plain": [
              "<Figure size 432x288 with 1 Axes>"
            ],
            "image/png": "[encoded data removed]"
          },
          "metadata": {
            "needs_background": "light"
          }
        }
      ]
    },
    {
      "cell_type": "code",
      "source": [
        "df.boxplot('silver_medal') #Boxplot allows us to detect the outliers visually.\n",
        "#Here clearly the percentage of outliers is less than 0.3% so no need to treat them."
      ],
      "metadata": {
        "colab": {
          "base_uri": "https://localhost:8080/",
          "height": 283
        },
        "id": "gNRVN1Qq1r14",
        "outputId": "6f02de19-3a1b-4afd-d536-1173203af057"
      },
      "execution_count": null,
      "outputs": [
        {
          "output_type": "execute_result",
          "data": {
            "text/plain": [
              "<matplotlib.axes._subplots.AxesSubplot at 0x7f2e7ccddd50>"
            ]
          },
          "metadata": {},
          "execution_count": 76
        },
        {
          "output_type": "display_data",
          "data": {
            "text/plain": [
              "<Figure size 432x288 with 1 Axes>"
            ],
            "image/png": "[encoded data removed]"
          },
          "metadata": {
            "needs_background": "light"
          }
        }
      ]
    },
    {
      "cell_type": "code",
      "source": [
        "df.boxplot('bronze_medal') #Boxplot allows us to detect the outliers visually.\n",
        "#here clearly the percentage of outliers is less than 0.3% so no need to treat them."
      ],
      "metadata": {
        "colab": {
          "base_uri": "https://localhost:8080/",
          "height": 283
        },
        "id": "prHnnMeh14bj",
        "outputId": "19eaf9dc-d3d7-4a9c-cb7d-3588e3167ba7"
      },
      "execution_count": null,
      "outputs": [
        {
          "output_type": "execute_result",
          "data": {
            "text/plain": [
              "<matplotlib.axes._subplots.AxesSubplot at 0x7f2e7cc16790>"
            ]
          },
          "metadata": {},
          "execution_count": 84
        },
        {
          "output_type": "display_data",
          "data": {
            "text/plain": [
              "<Figure size 432x288 with 1 Axes>"
            ],
            "image/png": "[encoded data removed]"
          },
          "metadata": {
            "needs_background": "light"
          }
        }
      ]
    },
    {
      "cell_type": "markdown",
      "source": [
        "* **Data Visualization**"
      ],
      "metadata": {
        "id": "kf0YRnHvG2Mg"
      }
    },
    {
      "cell_type": "code",
      "source": [
        "# Relational plots = relplot :scatterplot,lineplot\n",
        "# distribution plots = displot : histplot,kdeplot,rugplot\n",
        "# categorical plots = catplot : boxplot,barplot,violinplot"
      ],
      "metadata": {
        "id": "xwKUavJnHbK_"
      },
      "execution_count": null,
      "outputs": []
    },
    {
      "cell_type": "code",
      "source": [
        "plt.figure(figsize=(10,7)) #plt.figure is used to set the width & height of the plot\n",
        "plt.title('Relationship between number of gold medals won and Age') #Used to give Title to your plot\n",
        "sns.lineplot(x='age',y='gold_medal',data=df,color='c')#Here I have used the lineplot to display the relationship between number of gold medals won and Age\n",
        "plt.xlabel('Age') #Used to give label to X-axis\n",
        "plt.ylabel('Gold_Medal') #Used to give label to Y-axis\n",
        "plt.show() #displays the plot\n"
      ],
      "metadata": {
        "colab": {
          "base_uri": "https://localhost:8080/",
          "height": 458
        },
        "id": "3CoboE3THbHw",
        "outputId": "e196dfc2-2823-45b1-8904-dbc7c13b377c"
      },
      "execution_count": 46,
      "outputs": [
        {
          "output_type": "display_data",
          "data": {
            "text/plain": [
              "<Figure size 720x504 with 1 Axes>"
            ],
            "image/png": "[encoded data removed]"
          },
          "metadata": {
            "needs_background": "light"
          }
        }
      ]
    },
    {
      "cell_type": "code",
      "source": [
        "plt.figure(figsize=(10,7)) #plt.figure is used to set the width & height of the plot\n",
        "plt.title('Relationship between number of silver medals won and Age') #Used to give Title to your plot\n",
        "sns.lineplot(x='age',y='silver_medal',data=df,color='c')#Here I have used the lineplot to display the relationship between number of silver medals won and Age\n",
        "plt.xlabel('Age') #Used to give label to X-axis\n",
        "plt.ylabel('Silver_Medal') #Used to give label to Y-axis\n",
        "plt.show() #displays the plot\n",
        "\n",
        "\n",
        "\n"
      ],
      "metadata": {
        "colab": {
          "base_uri": "https://localhost:8080/",
          "height": 458
        },
        "id": "vDTjCalCK1N7",
        "outputId": "0fa8269f-b8d1-464b-8300-8e1a61bd7798"
      },
      "execution_count": 47,
      "outputs": [
        {
          "output_type": "display_data",
          "data": {
            "text/plain": [
              "<Figure size 720x504 with 1 Axes>"
            ],
            "image/png": "[encoded data removed]"
          },
          "metadata": {
            "needs_background": "light"
          }
        }
      ]
    },
    {
      "cell_type": "code",
      "source": [
        "plt.figure(figsize=(10,7)) #plt.figure is used to set the width & height of the plot\n",
        "plt.title('Relationship between number of Bronze medals won and Age') #Used to give Title to your plot\n",
        "sns.lineplot(x='age',y='bronze_medal',data=df,color='c')#Here I have used the lineplot to display the relationship between number of bronze medals won and Age\n",
        "plt.xlabel('Age') #Used to give label to X-axis\n",
        "plt.ylabel('Bronze_medal') #Used to give label to Y-axis\n",
        "plt.show() #displays the plot\n",
        "\n"
      ],
      "metadata": {
        "colab": {
          "base_uri": "https://localhost:8080/",
          "height": 458
        },
        "id": "eZDBrG1aLjwR",
        "outputId": "fad9b836-e84e-421c-9fb6-d93e8bd64388"
      },
      "execution_count": 48,
      "outputs": [
        {
          "output_type": "display_data",
          "data": {
            "text/plain": [
              "<Figure size 720x504 with 1 Axes>"
            ],
            "image/png": "[encoded data removed]"
          },
          "metadata": {
            "needs_background": "light"
          }
        }
      ]
    },
    {
      "cell_type": "code",
      "source": [
        "plt.figure(figsize=(10,7))#plt.figure is used to set the width & height of the plot\n",
        "plt.title(\"Distribution of Age\")#Used to give Title to your plot\n",
        "sns.histplot(x='age',data=df,color='b',bins=5,kde=True)#Here I have used the histplot to display the distribution of age\n",
        "plt.xlabel('Age')#Used to give label to X-axis\n",
        "plt.show()#displays the plot\n",
        "\n"
      ],
      "metadata": {
        "colab": {
          "base_uri": "https://localhost:8080/",
          "height": 458
        },
        "id": "otK6u8R4Mq6i",
        "outputId": "5ac5c70c-7424-47d5-c9c1-2f678b5b51da"
      },
      "execution_count": 49,
      "outputs": [
        {
          "output_type": "display_data",
          "data": {
            "text/plain": [
              "<Figure size 720x504 with 1 Axes>"
            ],
            "image/png": "[encoded data removed]"
          },
          "metadata": {
            "needs_background": "light"
          }
        }
      ]
    },
    {
      "cell_type": "code",
      "source": [
        "plt.figure(figsize=(15,25))#plt.figure is used to set the width & height of the plot\n",
        "plt.title('Count of Athletes from each Country')#Used to give Title to your plot\n",
        "sns.countplot(y='country',data=df,color='purple')#Here I have used the countplot to display the count of athletes from each country\n",
        "plt.show()#displays the plot\n",
        "\n"
      ],
      "metadata": {
        "colab": {
          "base_uri": "https://localhost:8080/",
          "height": 1000
        },
        "id": "tmjqiWXxPJLu",
        "outputId": "adf76fdd-727c-408b-9255-e8407da551cd"
      },
      "execution_count": 50,
      "outputs": [
        {
          "output_type": "display_data",
          "data": {
            "text/plain": [
              "<Figure size 1080x1800 with 1 Axes>"
            ],
            "image/png": "[encoded data removed]"
          },
          "metadata": {
            "needs_background": "light"
          }
        }
      ]
    },
    {
      "cell_type": "code",
      "source": [
        "plt.figure(figsize=(20,30))#plt.figure is used to set the width & height of the plot\n",
        "plt.title(\"Total number of medals in each Olympic Sport\")#Used to give Title to your plot\n",
        "sns.violinplot(x='total_medal',y='sports',data=df,color='b')#Here I have used the violinplot to display the total no. of medals in each Olympic Sport\n",
        "plt.show()#Used to display the plot"
      ],
      "metadata": {
        "colab": {
          "base_uri": "https://localhost:8080/",
          "height": 1000
        },
        "id": "PvKBK8sb2H8f",
        "outputId": "744c8830-f8e7-4891-eb8b-1602ca67e70d"
      },
      "execution_count": 51,
      "outputs": [
        {
          "output_type": "display_data",
          "data": {
            "text/plain": [
              "<Figure size 1440x2160 with 1 Axes>"
            ],
            "image/png": "[encoded data removed]"
          },
          "metadata": {
            "needs_background": "light"
          }
        }
      ]
    },
    {
      "cell_type": "markdown",
      "source": [
        "* **Please check if the age dataset is skewed or symmetric. Based on results perform transformation.**"
      ],
      "metadata": {
        "id": "ScEAY8MiSIdg"
      }
    },
    {
      "cell_type": "code",
      "source": [
        "plt.figure(figsize=(10,7))#plt.figure is used to set the width & height of the plot\n",
        "plt.title(\"Distribution of Age\")#Used to give Title to your plot\n",
        "sns.histplot(x='age',data=df,color='b',bins=10,kde=True)#Here I have used the histplot to display the distribution of age\n",
        "plt.xlabel('Age')#Used to give label to X-axis\n",
        "plt.show()#displays the plot\n",
        "\n"
      ],
      "metadata": {
        "colab": {
          "base_uri": "https://localhost:8080/",
          "height": 458
        },
        "id": "TD4aMGmjRx3Y",
        "outputId": "41810690-4ba1-4d84-ebd8-c8c73727b7f0"
      },
      "execution_count": 53,
      "outputs": [
        {
          "output_type": "display_data",
          "data": {
            "text/plain": [
              "<Figure size 720x504 with 1 Axes>"
            ],
            "image/png": "[encoded data removed]"
          },
          "metadata": {
            "needs_background": "light"
          }
        }
      ]
    },
    {
      "cell_type": "code",
      "source": [
        "#It is clear from the plot above that the data is moderately right skewed"
      ],
      "metadata": {
        "id": "dwZ0WvidUn5w"
      },
      "execution_count": null,
      "outputs": []
    },
    {
      "cell_type": "code",
      "source": [
        "round(df['age'].skew(),2)#The skew() function is used to calculate the skewness value of a particular column"
      ],
      "metadata": {
        "colab": {
          "base_uri": "https://localhost:8080/"
        },
        "id": "ZQv1V21ZXxrS",
        "outputId": "f5176014-5bb2-42bc-8f96-b40983b338b3"
      },
      "execution_count": 54,
      "outputs": [
        {
          "output_type": "execute_result",
          "data": {
            "text/plain": [
              "0.86"
            ]
          },
          "metadata": {},
          "execution_count": 54
        }
      ]
    },
    {
      "cell_type": "code",
      "source": [
        "# if the skewness value is between -0.5 to 0.5 then the data is said to be fairly symmetrical\n",
        "# if the skewness value is between -1 to -0.5 & 0.5 to 1 then the data is said to be moderately skewed\n",
        "# if the skewness value is less than -1 or greater than 1 then the data is said to be highly skewed.\n",
        "# So in this case the age dataset is moderately skewed.\n"
      ],
      "metadata": {
        "id": "ECuLIMo3VGxG"
      },
      "execution_count": null,
      "outputs": []
    },
    {
      "cell_type": "markdown",
      "source": [
        "* **Please list the top 10 countries with the gold medal, then top10 countries with the silver medal, then bronze medal and the total medal.**\n",
        "       "
      ],
      "metadata": {
        "id": "xBX8oI7lYrKJ"
      }
    },
    {
      "cell_type": "code",
      "source": [
        "df.groupby('country')['gold_medal'].sum().sort_values(ascending=False).head(10)#Here I have used the groupby function to list the top 10 countries with gold \n",
        "#medals.For this I have first grouped by countries with gold medals and then sorted the values in descending order and then finally used the head() function\n",
        "#and displayed the top 10 rows\n",
        "#here are the top 10 countries with gold medal"
      ],
      "metadata": {
        "colab": {
          "base_uri": "https://localhost:8080/"
        },
        "id": "i-K83ZcyYH6W",
        "outputId": "25ab12de-b15c-4675-ce88-80ea3f82d795"
      },
      "execution_count": 55,
      "outputs": [
        {
          "output_type": "execute_result",
          "data": {
            "text/plain": [
              "country\n",
              "United States    552\n",
              "Russia           234\n",
              "China            234\n",
              "Germany          223\n",
              "Canada           168\n",
              "Australia        163\n",
              "Great Britain    124\n",
              "South Korea      110\n",
              "France           108\n",
              "Netherlands      101\n",
              "Name: gold_medal, dtype: int64"
            ]
          },
          "metadata": {},
          "execution_count": 55
        }
      ]
    },
    {
      "cell_type": "code",
      "source": [
        "df.groupby('country')['silver_medal'].sum().sort_values(ascending=False).head(10)#Here I have used the groupby function to list the top 10 countries with silver \n",
        "#medals.For this I have first grouped by countries with silver medals and then sorted the values in descending order and then finally used the head() function\n",
        "#and displayed the top 10 rows\n",
        "#here are the top 10 countries with silver medal"
      ],
      "metadata": {
        "colab": {
          "base_uri": "https://localhost:8080/"
        },
        "id": "-HNljvPAc6-I",
        "outputId": "2271db5c-4ffc-4005-ed30-0c9f7500a86c"
      },
      "execution_count": 56,
      "outputs": [
        {
          "output_type": "execute_result",
          "data": {
            "text/plain": [
              "country\n",
              "United States    440\n",
              "Australia        226\n",
              "Russia           221\n",
              "Germany          183\n",
              "China            156\n",
              "Netherlands      135\n",
              "Spain            116\n",
              "Japan            112\n",
              "France           107\n",
              "Italy            103\n",
              "Name: silver_medal, dtype: int64"
            ]
          },
          "metadata": {},
          "execution_count": 56
        }
      ]
    },
    {
      "cell_type": "code",
      "source": [
        "df.groupby('country')['bronze_medal'].sum().sort_values(ascending=False).head(10)#Here I have used the groupby function to list the top 10 countries with bronze \n",
        "#medals.For this I have first grouped by countries with bronze medals and then sorted the values in descending order and then finally used the head() function\n",
        "#and displayed the top 10 rows\n",
        "#here are the top 10 countries with bronze medal"
      ],
      "metadata": {
        "colab": {
          "base_uri": "https://localhost:8080/"
        },
        "id": "F1QNfgCRdR31",
        "outputId": "a3acf78b-bc93-4f4c-b81f-20eaaa5f3fec"
      },
      "execution_count": 57,
      "outputs": [
        {
          "output_type": "execute_result",
          "data": {
            "text/plain": [
              "country\n",
              "United States    320\n",
              "Russia           313\n",
              "Germany          223\n",
              "Australia        220\n",
              "Italy            142\n",
              "China            140\n",
              "Japan            113\n",
              "South Korea      105\n",
              "Canada           104\n",
              "France           103\n",
              "Name: bronze_medal, dtype: int64"
            ]
          },
          "metadata": {},
          "execution_count": 57
        }
      ]
    },
    {
      "cell_type": "code",
      "source": [
        "df.groupby('country')['total_medal'].sum().sort_values(ascending=False).head(10)#Here I have used the groupby function to list the top 10 countries with total \n",
        "#medals.For this I have first grouped by countries with total medals and then sorted the values in descending order and then finally used the head() function\n",
        "#and displayed the top 10 rows\n",
        "#here are the top 10 countries with total medals"
      ],
      "metadata": {
        "colab": {
          "base_uri": "https://localhost:8080/"
        },
        "id": "S-Oj9HbadY2A",
        "outputId": "e0b2b8b2-8302-47ff-dfe1-7cfffa0c68fe"
      },
      "execution_count": 58,
      "outputs": [
        {
          "output_type": "execute_result",
          "data": {
            "text/plain": [
              "country\n",
              "United States    1312\n",
              "Russia            768\n",
              "Germany           629\n",
              "Australia         609\n",
              "China             530\n",
              "Canada            370\n",
              "Italy             331\n",
              "Great Britain     322\n",
              "France            318\n",
              "Netherlands       318\n",
              "Name: total_medal, dtype: int64"
            ]
          },
          "metadata": {},
          "execution_count": 58
        }
      ]
    },
    {
      "cell_type": "markdown",
      "source": [
        "* **Please perform appropriate numerical measures on each column and report them accordingly.**"
      ],
      "metadata": {
        "id": "-zqozcLjlUsC"
      }
    },
    {
      "cell_type": "code",
      "source": [
        "df['name'].mode() #.mode() is the appropriate measure of central tendency for name column as it is an categorical column.Here .mean & .median won't make much sense.\n",
        "                  #mode is the most recurring value in the column"
      ],
      "metadata": {
        "colab": {
          "base_uri": "https://localhost:8080/"
        },
        "id": "Iy4ajB3am8cw",
        "outputId": "94ca2826-0b05-4605-ae8c-4b320b91a12a"
      },
      "execution_count": 59,
      "outputs": [
        {
          "output_type": "execute_result",
          "data": {
            "text/plain": [
              "0    Irek Zinnurov\n",
              "dtype: object"
            ]
          },
          "metadata": {},
          "execution_count": 59
        }
      ]
    },
    {
      "cell_type": "code",
      "source": [
        "df['country'].mode() #.mode() is the appropriate measure of central tendency for country column as it is an categorical column.Here .mean & .median won't make much sense.\n",
        "                     #mode is the most recurring value in the column"
      ],
      "metadata": {
        "colab": {
          "base_uri": "https://localhost:8080/"
        },
        "id": "eIdlUoQlnugP",
        "outputId": "1be77613-c723-4c26-88ae-019168be4bb5"
      },
      "execution_count": 60,
      "outputs": [
        {
          "output_type": "execute_result",
          "data": {
            "text/plain": [
              "0    United States\n",
              "dtype: object"
            ]
          },
          "metadata": {},
          "execution_count": 60
        }
      ]
    },
    {
      "cell_type": "code",
      "source": [
        "df['sports'].mode() #.mode() is the appropriate measure of central tendency for sports column as it is an categorical column.Here .mean & .median won't make much sense.\n",
        "                    #mode is the most recurring value in the column"
      ],
      "metadata": {
        "colab": {
          "base_uri": "https://localhost:8080/"
        },
        "id": "J-VtQS_Tn3qy",
        "outputId": "a34feb50-28eb-4d1d-bc6a-2cfe1bd3ecd5"
      },
      "execution_count": 61,
      "outputs": [
        {
          "output_type": "execute_result",
          "data": {
            "text/plain": [
              "0    Athletics\n",
              "dtype: object"
            ]
          },
          "metadata": {},
          "execution_count": 61
        }
      ]
    },
    {
      "cell_type": "code",
      "source": [
        "df['Date_Given'].mode() #for the Date_Given column too .mode() is the appropriate numerical measure as .mean(),.median,.std(),.var() don't make much sense with the Date_Given column"
      ],
      "metadata": {
        "colab": {
          "base_uri": "https://localhost:8080/"
        },
        "id": "rS1O7Z-soVz6",
        "outputId": "97977c96-a337-423b-989a-400dcfd7c568"
      },
      "execution_count": 62,
      "outputs": [
        {
          "output_type": "execute_result",
          "data": {
            "text/plain": [
              "0    8/24/2008\n",
              "dtype: object"
            ]
          },
          "metadata": {},
          "execution_count": 62
        }
      ]
    },
    {
      "cell_type": "code",
      "source": [
        "df['year'].mode() #for the year column too .mode() is the appropriate numerical measure as .mean(),.median,.std(),.var() don't make much sense with the year column"
      ],
      "metadata": {
        "colab": {
          "base_uri": "https://localhost:8080/"
        },
        "id": "y8ihTMrUkff3",
        "outputId": "9171252e-d681-416e-ec6f-2290ce679d18"
      },
      "execution_count": 63,
      "outputs": [
        {
          "output_type": "execute_result",
          "data": {
            "text/plain": [
              "0    2008\n",
              "dtype: int64"
            ]
          },
          "metadata": {},
          "execution_count": 63
        }
      ]
    },
    {
      "cell_type": "code",
      "source": [
        "df['age'].describe() #the .describe function gives the mean & standard deviation of age column. Here .mode() won't make much sense\n",
        "                     #I have also calculated the median,variance & IQR below "
      ],
      "metadata": {
        "colab": {
          "base_uri": "https://localhost:8080/"
        },
        "id": "R7wH-IC2o_dK",
        "outputId": "5039cc6c-6aa0-4933-93d4-7b739ec09d6e"
      },
      "execution_count": 66,
      "outputs": [
        {
          "output_type": "execute_result",
          "data": {
            "text/plain": [
              "count    8618.000000\n",
              "mean       26.405434\n",
              "std         5.100638\n",
              "min        15.000000\n",
              "25%        23.000000\n",
              "50%        26.000000\n",
              "75%        29.000000\n",
              "max        61.000000\n",
              "Name: age, dtype: float64"
            ]
          },
          "metadata": {},
          "execution_count": 66
        }
      ]
    },
    {
      "cell_type": "code",
      "source": [
        "q1=23 #(25%)\n",
        "q3=29 #(75%)\n",
        "IQR=q3-q1\n",
        "IQR#(Inter-quartile range )"
      ],
      "metadata": {
        "colab": {
          "base_uri": "https://localhost:8080/"
        },
        "id": "6xn1rVChqPYe",
        "outputId": "c081e9f3-ccd2-4855-bd44-aa1e251393fa"
      },
      "execution_count": 65,
      "outputs": [
        {
          "output_type": "execute_result",
          "data": {
            "text/plain": [
              "6"
            ]
          },
          "metadata": {},
          "execution_count": 65
        }
      ]
    },
    {
      "cell_type": "code",
      "source": [
        "df['age'].median() #Here I have calculated the median"
      ],
      "metadata": {
        "colab": {
          "base_uri": "https://localhost:8080/"
        },
        "id": "KiUcjo7fp78Y",
        "outputId": "8796b20e-aae2-46aa-81b1-05f185c55ce8"
      },
      "execution_count": 67,
      "outputs": [
        {
          "output_type": "execute_result",
          "data": {
            "text/plain": [
              "26.0"
            ]
          },
          "metadata": {},
          "execution_count": 67
        }
      ]
    },
    {
      "cell_type": "code",
      "source": [
        "round(df['age'].var(),1) #Here I have calculated the variance and rounded off the value by 1 decimal place"
      ],
      "metadata": {
        "colab": {
          "base_uri": "https://localhost:8080/"
        },
        "id": "BgngwsXGqBhH",
        "outputId": "f6e9a5a6-bb57-4707-f790-752f2a9276af"
      },
      "execution_count": null,
      "outputs": [
        {
          "output_type": "execute_result",
          "data": {
            "text/plain": [
              "22.8"
            ]
          },
          "metadata": {},
          "execution_count": 55
        }
      ]
    },
    {
      "cell_type": "code",
      "source": [
        "df['gold_medal'].describe() #the .describe function gives the mean & standard deviation of gold_medal column. Here .mode() won't make much sense\n",
        "                            #I have also calculated the median,variance & IQR below \n",
        "\n"
      ],
      "metadata": {
        "colab": {
          "base_uri": "https://localhost:8080/"
        },
        "id": "Ib2C9sANJ3t2",
        "outputId": "af4b6083-1fde-41a9-8305-c4646fdb3aca"
      },
      "execution_count": null,
      "outputs": [
        {
          "output_type": "execute_result",
          "data": {
            "text/plain": [
              "count    8618.000000\n",
              "mean        0.364702\n",
              "std         0.545349\n",
              "min         0.000000\n",
              "25%         0.000000\n",
              "50%         0.000000\n",
              "75%         1.000000\n",
              "max         8.000000\n",
              "Name: gold_medal, dtype: float64"
            ]
          },
          "metadata": {},
          "execution_count": 57
        }
      ]
    },
    {
      "cell_type": "code",
      "source": [
        "q1=0 #(25%)\n",
        "q3=1 #(75%)\n",
        "IQR=q3-q1\n",
        "IQR#(Inter-quartile range )"
      ],
      "metadata": {
        "colab": {
          "base_uri": "https://localhost:8080/"
        },
        "id": "xpp2QLuyKLEE",
        "outputId": "3ad3a405-6d63-4896-f717-53ef734db3af"
      },
      "execution_count": null,
      "outputs": [
        {
          "output_type": "execute_result",
          "data": {
            "text/plain": [
              "1"
            ]
          },
          "metadata": {},
          "execution_count": 58
        }
      ]
    },
    {
      "cell_type": "code",
      "source": [
        "df['gold_medal'].median() #Here I have calculated the median"
      ],
      "metadata": {
        "colab": {
          "base_uri": "https://localhost:8080/"
        },
        "id": "3VGY-C3TKVc_",
        "outputId": "ad2f8e70-2353-4d20-f353-d8d1b92d927e"
      },
      "execution_count": null,
      "outputs": [
        {
          "output_type": "execute_result",
          "data": {
            "text/plain": [
              "0.0"
            ]
          },
          "metadata": {},
          "execution_count": 62
        }
      ]
    },
    {
      "cell_type": "code",
      "source": [
        "round(df['gold_medal'].var(),1) #Here I have calculated the variance and rounded off the value by 1 decimal place"
      ],
      "metadata": {
        "colab": {
          "base_uri": "https://localhost:8080/"
        },
        "id": "fouogZnJKbEb",
        "outputId": "92f8f9aa-d153-4be7-82b7-9af21f93434d"
      },
      "execution_count": null,
      "outputs": [
        {
          "output_type": "execute_result",
          "data": {
            "text/plain": [
              "0.3"
            ]
          },
          "metadata": {},
          "execution_count": 63
        }
      ]
    },
    {
      "cell_type": "code",
      "source": [
        "df['silver_medal'].describe() #the .describe() function gives the mean & standard deviation of silver_medal column. Here .mode() won't make much sense\n",
        "                              #I have also calculated the median,variance & IQR below \n",
        "\n"
      ],
      "metadata": {
        "colab": {
          "base_uri": "https://localhost:8080/"
        },
        "id": "Tax-ybh1LNiX",
        "outputId": "32bc427a-4c95-48ef-8acc-2153f9482783"
      },
      "execution_count": null,
      "outputs": [
        {
          "output_type": "execute_result",
          "data": {
            "text/plain": [
              "count    8618.000000\n",
              "mean        0.363309\n",
              "std         0.511613\n",
              "min         0.000000\n",
              "25%         0.000000\n",
              "50%         0.000000\n",
              "75%         1.000000\n",
              "max         3.000000\n",
              "Name: silver_medal, dtype: float64"
            ]
          },
          "metadata": {},
          "execution_count": 64
        }
      ]
    },
    {
      "cell_type": "code",
      "source": [
        "q1=0 #(25%)\n",
        "q3=1 #(75%)\n",
        "IQR=q3-q1\n",
        "IQR#(Inter-quartile range )\n"
      ],
      "metadata": {
        "colab": {
          "base_uri": "https://localhost:8080/"
        },
        "id": "Ht5y4dUNLZf_",
        "outputId": "93103a39-4e31-4db4-fb9c-3e49194e75fc"
      },
      "execution_count": null,
      "outputs": [
        {
          "output_type": "execute_result",
          "data": {
            "text/plain": [
              "1"
            ]
          },
          "metadata": {},
          "execution_count": 65
        }
      ]
    },
    {
      "cell_type": "code",
      "source": [
        "df['silver_medal'].median() #Here I have calculated the median"
      ],
      "metadata": {
        "colab": {
          "base_uri": "https://localhost:8080/"
        },
        "id": "t3K9r9DyLfhw",
        "outputId": "5bbb9cf3-dcde-4074-b942-c2cac773bfa7"
      },
      "execution_count": null,
      "outputs": [
        {
          "output_type": "execute_result",
          "data": {
            "text/plain": [
              "0.0"
            ]
          },
          "metadata": {},
          "execution_count": 68
        }
      ]
    },
    {
      "cell_type": "code",
      "source": [
        "round(df['silver_medal'].var(),1) #Here I have calculated the variance and rounded off the value by 1 decimal place"
      ],
      "metadata": {
        "colab": {
          "base_uri": "https://localhost:8080/"
        },
        "id": "wYdsvLQ9Lhn3",
        "outputId": "d029ff7d-7217-4e52-aa5c-0e180e619a9f"
      },
      "execution_count": null,
      "outputs": [
        {
          "output_type": "execute_result",
          "data": {
            "text/plain": [
              "0.3"
            ]
          },
          "metadata": {},
          "execution_count": 69
        }
      ]
    },
    {
      "cell_type": "code",
      "source": [
        "df['bronze_medal'].describe() #the .describe function gives the mean & standard deviation of bronze_medal column. Here .mode() won't make much sense\n",
        "                              #I have also calculated the median,variance & IQR below \n"
      ],
      "metadata": {
        "colab": {
          "base_uri": "https://localhost:8080/"
        },
        "id": "hBMHL--fLuDr",
        "outputId": "5c493cd3-c51a-4848-ca87-919e0c66cab7"
      },
      "execution_count": null,
      "outputs": [
        {
          "output_type": "execute_result",
          "data": {
            "text/plain": [
              "count    8618.000000\n",
              "mean        0.377698\n",
              "std         0.505005\n",
              "min         0.000000\n",
              "25%         0.000000\n",
              "50%         0.000000\n",
              "75%         1.000000\n",
              "max         3.000000\n",
              "Name: bronze_medal, dtype: float64"
            ]
          },
          "metadata": {},
          "execution_count": 71
        }
      ]
    },
    {
      "cell_type": "code",
      "source": [
        "q1=0 #(25%)\n",
        "q3=1 #(75%)\n",
        "IQR=q3-q1\n",
        "IQR#(Inter-quartile range )\n"
      ],
      "metadata": {
        "colab": {
          "base_uri": "https://localhost:8080/"
        },
        "id": "1wuSWOdiOk4s",
        "outputId": "7ef37ae5-0f39-4523-f015-31651aac0fbc"
      },
      "execution_count": null,
      "outputs": [
        {
          "output_type": "execute_result",
          "data": {
            "text/plain": [
              "1"
            ]
          },
          "metadata": {},
          "execution_count": 72
        }
      ]
    },
    {
      "cell_type": "code",
      "source": [
        "df['bronze_medal'].median() #Here I have calculated the median"
      ],
      "metadata": {
        "colab": {
          "base_uri": "https://localhost:8080/"
        },
        "id": "yVUZJD1DOpF6",
        "outputId": "d321f994-d2d2-4feb-af03-eae54c034c3e"
      },
      "execution_count": null,
      "outputs": [
        {
          "output_type": "execute_result",
          "data": {
            "text/plain": [
              "0.0"
            ]
          },
          "metadata": {},
          "execution_count": 75
        }
      ]
    },
    {
      "cell_type": "code",
      "source": [
        "round(df['bronze_medal'].var(),1) #Here I have calculated the variance and rounded off the value by 1 decimal place"
      ],
      "metadata": {
        "colab": {
          "base_uri": "https://localhost:8080/"
        },
        "id": "JaXRza8UOuFP",
        "outputId": "710ecbc5-76e7-4244-9998-424d64343d7f"
      },
      "execution_count": null,
      "outputs": [
        {
          "output_type": "execute_result",
          "data": {
            "text/plain": [
              "0.3"
            ]
          },
          "metadata": {},
          "execution_count": 76
        }
      ]
    },
    {
      "cell_type": "code",
      "source": [
        "df['total_medal'].describe() #the .describe function gives the mean & standard deviation of total_medal column. Here .mode() won't make much sense\n",
        "                             #I have also calculated the median,variance & IQR below \n"
      ],
      "metadata": {
        "colab": {
          "base_uri": "https://localhost:8080/"
        },
        "id": "4-C_rwgFOyom",
        "outputId": "fd9e67e7-0026-4565-d988-539c577d2e25"
      },
      "execution_count": null,
      "outputs": [
        {
          "output_type": "execute_result",
          "data": {
            "text/plain": [
              "count    8618.000000\n",
              "mean        1.105709\n",
              "std         0.408892\n",
              "min         1.000000\n",
              "25%         1.000000\n",
              "50%         1.000000\n",
              "75%         1.000000\n",
              "max         8.000000\n",
              "Name: total_medal, dtype: float64"
            ]
          },
          "metadata": {},
          "execution_count": 77
        }
      ]
    },
    {
      "cell_type": "code",
      "source": [
        "q1=1 #(25%)\n",
        "q3=1 #(75%)\n",
        "IQR=q3-q1\n",
        "IQR#(Inter-quartile range )\n"
      ],
      "metadata": {
        "colab": {
          "base_uri": "https://localhost:8080/"
        },
        "id": "h1eX-BQKO3nl",
        "outputId": "55190a90-453a-40cf-aae3-f3279c82f4b4"
      },
      "execution_count": null,
      "outputs": [
        {
          "output_type": "execute_result",
          "data": {
            "text/plain": [
              "0"
            ]
          },
          "metadata": {},
          "execution_count": 78
        }
      ]
    },
    {
      "cell_type": "code",
      "source": [
        "df['total_medal'].median()  #Here I have calculated the median"
      ],
      "metadata": {
        "colab": {
          "base_uri": "https://localhost:8080/"
        },
        "id": "EUB12MR3O4Pv",
        "outputId": "2f65a6fc-0fa3-4ca5-8504-d4f2b928c919"
      },
      "execution_count": null,
      "outputs": [
        {
          "output_type": "execute_result",
          "data": {
            "text/plain": [
              "1.0"
            ]
          },
          "metadata": {},
          "execution_count": 81
        }
      ]
    },
    {
      "cell_type": "code",
      "source": [
        "round(df['total_medal'].var(),1) #Here I have calculated the variance and rounded off the value by 1 decimal place"
      ],
      "metadata": {
        "colab": {
          "base_uri": "https://localhost:8080/"
        },
        "id": "PEb-7JxuO6IU",
        "outputId": "8b6c9901-12e8-4b74-ae53-4585d2d926ec"
      },
      "execution_count": null,
      "outputs": [
        {
          "output_type": "execute_result",
          "data": {
            "text/plain": [
              "0.2"
            ]
          },
          "metadata": {},
          "execution_count": 82
        }
      ]
    },
    {
      "cell_type": "markdown",
      "source": [
        "* **Please remove special characters from the name column.**"
      ],
      "metadata": {
        "id": "h_H6T7VSpKVU"
      }
    },
    {
      "cell_type": "code",
      "source": [
        "df.columns=df.columns.str.replace('[@,#,^,%,$,&,*,(),-,=,{},[],\\,|,?,<,>,/]','') #here the special characters in name column are replaced with space"
      ],
      "metadata": {
        "colab": {
          "base_uri": "https://localhost:8080/"
        },
        "id": "HbGn5SQDpC83",
        "outputId": "9361784b-2ae5-4449-911b-6bd1f793be19"
      },
      "execution_count": 68,
      "outputs": [
        {
          "output_type": "stream",
          "name": "stderr",
          "text": [
            "/usr/local/lib/python3.7/dist-packages/ipykernel_launcher.py:1: FutureWarning: The default value of regex will change from True to False in a future version.\n",
            "  \"\"\"Entry point for launching an IPython kernel.\n"
          ]
        }
      ]
    }
  ]
}