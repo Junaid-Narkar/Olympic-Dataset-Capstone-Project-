{
  "nbformat": 4,
  "nbformat_minor": 0,
  "metadata": {
    "colab": {
      "name": "Aniket_Ramdas_Mohite(pyspark_re_submit).ipynb",
      "provenance": []
    },
    "kernelspec": {
      "name": "python3",
      "display_name": "Python 3"
    },
    "language_info": {
      "name": "python"
    }
  },
  "cells": [
    {
      "cell_type": "markdown",
      "source": [
        "# Olympic Dataset"
      ],
      "metadata": {
        "id": "n-3Tx_peBkK2"
      }
    },
    {
      "cell_type": "markdown",
      "source": [
        "* **Installing pyspark**"
      ],
      "metadata": {
        "id": "ffvJ4KFpB9VL"
      }
    },
    {
      "cell_type": "code",
      "source": [
        "!pip install pyspark\n"
      ],
      "metadata": {
        "colab": {
          "base_uri": "https://localhost:8080/"
        },
        "id": "W7HtkSL5B-2j",
        "outputId": "5049cfff-ac56-4931-bf48-497ade0a58de"
      },
      "execution_count": 1,
      "outputs": [
        {
          "output_type": "stream",
          "name": "stdout",
          "text": [
            "Looking in indexes: https://pypi.org/simple, https://us-python.pkg.dev/colab-wheels/public/simple/\n",
            "Collecting pyspark\n",
            "  Downloading pyspark-3.3.0.tar.gz (281.3 MB)\n",
            "\u001b[K     |████████████████████████████████| 281.3 MB 44 kB/s \n",
            "\u001b[?25hCollecting py4j==0.10.9.5\n",
            "  Downloading py4j-0.10.9.5-py2.py3-none-any.whl (199 kB)\n",
            "\u001b[K     |████████████████████████████████| 199 kB 54.2 MB/s \n",
            "\u001b[?25hBuilding wheels for collected packages: pyspark\n",
            "  Building wheel for pyspark (setup.py) ... \u001b[?25l\u001b[?25hdone\n",
            "  Created wheel for pyspark: filename=pyspark-3.3.0-py2.py3-none-any.whl size=281764026 sha256=ea469b9ad80195f28c3b0d45caa44e3a28a9124dc29eedfba52876db3e221711\n",
            "  Stored in directory: /root/.cache/pip/wheels/7a/8e/1b/f73a52650d2e5f337708d9f6a1750d451a7349a867f928b885\n",
            "Successfully built pyspark\n",
            "Installing collected packages: py4j, pyspark\n",
            "Successfully installed py4j-0.10.9.5 pyspark-3.3.0\n"
          ]
        }
      ]
    },
    {
      "cell_type": "markdown",
      "source": [
        "* **Creating Environmemt for pyspark**"
      ],
      "metadata": {
        "id": "E7OXIwu8CZeY"
      }
    },
    {
      "cell_type": "code",
      "source": [
        "from pyspark import SparkConf,SparkContext\n",
        "from pyspark.sql import SparkSession\n",
        "from pyspark.sql import SQLContext\n",
        "conf=SparkConf().setAppName('test1')\n",
        "sc=SparkContext(conf=conf)\n",
        "spark=SparkSession.builder.appName('test2').getOrCreate()\n",
        "sqlContext=SQLContext(sc)"
      ],
      "metadata": {
        "colab": {
          "base_uri": "https://localhost:8080/"
        },
        "id": "Y-5ghdweCgSa",
        "outputId": "c700b8ee-3897-4d2d-8244-b7ddcf0fa5d3"
      },
      "execution_count": 2,
      "outputs": [
        {
          "output_type": "stream",
          "name": "stderr",
          "text": [
            "/usr/local/lib/python3.7/dist-packages/pyspark/sql/context.py:114: FutureWarning: Deprecated in 3.0.0. Use SparkSession.builder.getOrCreate() instead.\n",
            "  FutureWarning,\n"
          ]
        }
      ]
    },
    {
      "cell_type": "markdown",
      "source": [
        "* **Importing libraries**"
      ],
      "metadata": {
        "id": "DdIfMO7NC1Aq"
      }
    },
    {
      "cell_type": "code",
      "source": [
        "from matplotlib import pyplot as plt\n",
        "import seaborn as sns\n",
        "import pandas as pd\n",
        "import numpy as np\n",
        "import re\n",
        "import random\n",
        "import pyspark.sql.functions as f\n",
        "from pyspark.sql.functions import udf,col\n",
        "from pyspark.sql.types import IntegerType"
      ],
      "metadata": {
        "id": "g_b4SL05CwPZ"
      },
      "execution_count": 3,
      "outputs": []
    },
    {
      "cell_type": "markdown",
      "source": [
        "* **Write PySpark code to read olympix_data.csv file**\n"
      ],
      "metadata": {
        "id": "MNMZMvf3DBWs"
      }
    },
    {
      "cell_type": "code",
      "source": [
        "df = spark.read.format(\"csv\").option(\"header\",\"true\").option(\"inferSchema\",\"true\").load('/content/olympic_dataset_final.csv')\n",
        "df.show(10) \n",
        "\"\"\"Here I am reading the file using spark.The .show() function is used to display the dataframe and passing arguments inside the parenthesis will display that\n",
        "   many rows.For eg: df.show(10) displays the first 10 rows\"\"\""
      ],
      "metadata": {
        "colab": {
          "base_uri": "https://localhost:8080/"
        },
        "id": "FHOdzlzcC785",
        "outputId": "57025366-35f1-47fa-bf47-7f0ff279b163"
      },
      "execution_count": 30,
      "outputs": [
        {
          "output_type": "stream",
          "name": "stdout",
          "text": [
            "+---+----------------+----+-------------+----+----------+----------+----------+------------+-----------+------------+\n",
            "|_c0|            name| age|      country|year|Date_Given|    sports|gold_medal|silver_medal|total_medal|bronze_medal|\n",
            "+---+----------------+----+-------------+----+----------+----------+----------+------------+-----------+------------+\n",
            "|  0|  Michael Phelps|23.0|United States|2008| 8/24/2008|  Swimming|         8|           0|          8|           0|\n",
            "|  1|  Michael Phelps|19.0|United States|2004| 8/29/2004|  Swimming|         6|           0|          8|           2|\n",
            "|  2|  Michael Phelps|27.0|United States|2012|08-12-2012|  Swimming|         4|           2|          6|           0|\n",
            "|  3|Natalie Coughlin|25.0|United States|2008| 8/24/2008|  Swimming|         1|           2|          6|           3|\n",
            "|  4|   Aleksey Nemov|24.0|       Russia|2000|10-01-2000|Gymnastics|         2|           1|          6|           3|\n",
            "|  5|   Alicia Coutts|24.0|    Australia|2012|08-12-2012|  Swimming|         1|           3|          5|           1|\n",
            "|  6|  Missy Franklin|17.0|United States|2012|08-12-2012|  Swimming|         4|           0|          5|           1|\n",
            "|  7|     Ryan Lochte|27.0|United States|2012|08-12-2012|  Swimming|         2|           2|          5|           1|\n",
            "|  8| Allison Schmitt|22.0|United States|2012|08-12-2012|  Swimming|         3|           1|          5|           1|\n",
            "|  9|Natalie Coughlin|21.0|United States|2004| 8/29/2004|  Swimming|         2|           2|          5|           1|\n",
            "+---+----------------+----+-------------+----+----------+----------+----------+------------+-----------+------------+\n",
            "only showing top 10 rows\n",
            "\n"
          ]
        }
      ]
    },
    {
      "cell_type": "code",
      "source": [
        "df.printSchema() #.printSchema displays the datatypes of all the columns"
      ],
      "metadata": {
        "colab": {
          "base_uri": "https://localhost:8080/"
        },
        "id": "aTAW4Ow7GjN7",
        "outputId": "bb6d98bb-53c8-4732-9364-a6dd3be3c7eb"
      },
      "execution_count": 31,
      "outputs": [
        {
          "output_type": "stream",
          "name": "stdout",
          "text": [
            "root\n",
            " |-- _c0: integer (nullable = true)\n",
            " |-- name: string (nullable = true)\n",
            " |-- age: double (nullable = true)\n",
            " |-- country: string (nullable = true)\n",
            " |-- year: integer (nullable = true)\n",
            " |-- Date_Given: string (nullable = true)\n",
            " |-- sports: string (nullable = true)\n",
            " |-- gold_medal: integer (nullable = true)\n",
            " |-- silver_medal: integer (nullable = true)\n",
            " |-- total_medal: integer (nullable = true)\n",
            " |-- bronze_medal: integer (nullable = true)\n",
            "\n"
          ]
        }
      ]
    },
    {
      "cell_type": "markdown",
      "source": [
        "* **Write PySpark code to print the Olympic Sports/games in the dataset.**"
      ],
      "metadata": {
        "id": "z6KLBHt2HL2t"
      }
    },
    {
      "cell_type": "code",
      "source": [
        "df.select(df.sports).show(100) #Here I have displayed the values of the 'sports' column\n"
      ],
      "metadata": {
        "id": "_ArMEMs2GuyO"
      },
      "execution_count": null,
      "outputs": []
    },
    {
      "cell_type": "markdown",
      "source": [
        "* **Write PySpark code to plot the total number of medals in each Olympic Sport/game**"
      ],
      "metadata": {
        "id": "RFKXUlSIHvL3"
      }
    },
    {
      "cell_type": "code",
      "source": [
        "#Visualizations cannot be performed in pyspark so first I have converted the Pyspark DataFrame to Pandas DataFrame\n",
        "new_df=df.toPandas()"
      ],
      "metadata": {
        "id": "juixI2FsHh_w"
      },
      "execution_count": 34,
      "outputs": []
    },
    {
      "cell_type": "code",
      "source": [
        "plt.figure(figsize=(20,30))#plt.figure is used to set the width & height of the plot\n",
        "plt.title(\"Total number of medals in each Olympic Sport\")#Used to give Title to your plot\n",
        "sns.violinplot(x='total_medal',y='sports',data=new_df,color='b')#Here I have used the violinplot to display the total no. of medals in each Olympic Sport\n",
        "plt.show()#Used to display the plot"
      ],
      "metadata": {
        "id": "fzIiEE1Bx3iZ"
      },
      "execution_count": null,
      "outputs": []
    },
    {
      "cell_type": "markdown",
      "source": [
        "* **Sort the result based on the total number of medals.**"
      ],
      "metadata": {
        "id": "RjvLB_yLIEl4"
      }
    },
    {
      "cell_type": "code",
      "source": [
        "dfj = df.groupBy('sports').sum('total_medal') \n",
        "dfj.orderBy(f.desc('sum(total_medal)')).show()\n",
        "#Here I have grouped by total number of medals with respect to sports and then sorted the result of this in descending order of total number of medals "
      ],
      "metadata": {
        "colab": {
          "base_uri": "https://localhost:8080/"
        },
        "id": "t505jXFsIDgH",
        "outputId": "f1c2fd79-7498-4792-fecd-a8978c3665ec"
      },
      "execution_count": 36,
      "outputs": [
        {
          "output_type": "stream",
          "name": "stdout",
          "text": [
            "+----------+----------------+\n",
            "|    sports|sum(total_medal)|\n",
            "+----------+----------------+\n",
            "|  Swimming|             765|\n",
            "| Athletics|             753|\n",
            "|    Rowing|             576|\n",
            "|  Football|             407|\n",
            "|    Hockey|             388|\n",
            "|Ice Hockey|             384|\n",
            "|  Handball|             351|\n",
            "|  Canoeing|             333|\n",
            "| Waterpolo|             306|\n",
            "|   Cycling|             306|\n",
            "|Basketball|             287|\n",
            "|Gymnastics|             282|\n",
            "|Volleyball|             281|\n",
            "|   Fencing|             256|\n",
            "| Wrestling|             245|\n",
            "|      Judo|             224|\n",
            "|  Baseball|             216|\n",
            "|   Sailing|             210|\n",
            "|  Shooting|             192|\n",
            "|    Boxing|             188|\n",
            "+----------+----------------+\n",
            "only showing top 20 rows\n",
            "\n"
          ]
        }
      ]
    },
    {
      "cell_type": "markdown",
      "source": [
        "* **Find the total number of medals won by each country in swimming.**"
      ],
      "metadata": {
        "id": "MF6c9dj_JpPC"
      }
    },
    {
      "cell_type": "code",
      "source": [
        "df_new=df.where(df.sports=='Swimming').select('sports','country','total_medal')\n",
        "df_new.show()\n",
        "\"\"\"To solve this first I have filtered sports column with 'Swimming' value and then displayed 'sports','country','total_medal' for this filtered data and \n",
        "then grouped by the result with 'country','sports' for total number of medalswhich gives total no. of medals in swimming per country \"\"\""
      ],
      "metadata": {
        "id": "3aZ9qRynJoUl"
      },
      "execution_count": null,
      "outputs": []
    },
    {
      "cell_type": "code",
      "source": [
        "dfq=df_new.groupBy('country','sports').sum('total_medal')\n",
        "dfq.orderBy(f.desc('sum(total_medal)')).show()"
      ],
      "metadata": {
        "id": "R_u119vwKb4u"
      },
      "execution_count": null,
      "outputs": []
    },
    {
      "cell_type": "markdown",
      "source": [
        "* **Find the total number of medals won by each country in Skeleton.**"
      ],
      "metadata": {
        "id": "wQTEMRXAKknD"
      }
    },
    {
      "cell_type": "code",
      "source": [
        "df_new_1=df.where(df.sports=='Skeleton').select('sports','country','total_medal')\n",
        "df_new_1.show() \n",
        "\"\"\"To solve this first I have filtered sports column with 'Skeleton' value and then displayed 'sports','country','total_medal' for this filtered data and       \n",
        "  then grouped by the result with 'country','sports' for total number of medals which gives total no. of medals in skeleton per country\"\"\""
      ],
      "metadata": {
        "id": "-oiM6jksKeek"
      },
      "execution_count": null,
      "outputs": []
    },
    {
      "cell_type": "code",
      "source": [
        "dfh=df_new_1.groupBy('country','sports').sum('total_medal')\n",
        "dfh.orderBy(f.desc('sum(total_medal)')).show()"
      ],
      "metadata": {
        "colab": {
          "base_uri": "https://localhost:8080/"
        },
        "id": "c2zWIWdqK0tA",
        "outputId": "19259566-f355-444a-98f5-77eb9c0ae7dc"
      },
      "execution_count": 40,
      "outputs": [
        {
          "output_type": "stream",
          "name": "stdout",
          "text": [
            "+-------------+--------+----------------+\n",
            "|      country|  sports|sum(total_medal)|\n",
            "+-------------+--------+----------------+\n",
            "|       Canada|Skeleton|               4|\n",
            "|United States|Skeleton|               3|\n",
            "|  Switzerland|Skeleton|               3|\n",
            "|Great Britain|Skeleton|               3|\n",
            "|      Germany|Skeleton|               2|\n",
            "|       Russia|Skeleton|               1|\n",
            "|      Austria|Skeleton|               1|\n",
            "|       Latvia|Skeleton|               1|\n",
            "+-------------+--------+----------------+\n",
            "\n"
          ]
        }
      ]
    },
    {
      "cell_type": "markdown",
      "source": [
        "* **Find the number of medals that the US won yearly.**"
      ],
      "metadata": {
        "id": "fK-Ra1yOLOF6"
      }
    },
    {
      "cell_type": "code",
      "source": [
        "df_new_2=df.where(df.country=='United States').select('year','country','gold_medal','silver_medal','bronze_medal','total_medal')\n",
        "df_new_2.show()\n",
        "\"\"\"To solve this first I have filtered country column with 'United States' value and then displayed 'year','country','total_medal' for this filtered data and \n",
        "then grouped by the result with 'country','year' for total number of medalsand finally ordered the result of this in ascending order of year which gives total\n",
        " no. of medals that the US won yearly.\"\"\""
      ],
      "metadata": {
        "colab": {
          "base_uri": "https://localhost:8080/"
        },
        "id": "FIX5FD5DLO9o",
        "outputId": "06ff6ead-d687-46be-f8b4-a76469253438"
      },
      "execution_count": 41,
      "outputs": [
        {
          "output_type": "stream",
          "name": "stdout",
          "text": [
            "+----+-------------+----------+------------+------------+-----------+\n",
            "|year|      country|gold_medal|silver_medal|bronze_medal|total_medal|\n",
            "+----+-------------+----------+------------+------------+-----------+\n",
            "|2008|United States|         8|           0|           0|          8|\n",
            "|2004|United States|         6|           0|           2|          8|\n",
            "|2012|United States|         4|           2|           0|          6|\n",
            "|2008|United States|         1|           2|           3|          6|\n",
            "|2012|United States|         4|           0|           1|          5|\n",
            "|2012|United States|         2|           2|           1|          5|\n",
            "|2012|United States|         3|           1|           1|          5|\n",
            "|2004|United States|         2|           2|           1|          5|\n",
            "|2000|United States|         2|           0|           3|          5|\n",
            "|2008|United States|         1|           3|           1|          5|\n",
            "|2008|United States|         2|           0|           2|          4|\n",
            "|2000|United States|         2|           1|           1|          4|\n",
            "|2000|United States|         3|           0|           1|          4|\n",
            "|2008|United States|         1|           3|           0|          4|\n",
            "|2012|United States|         2|           1|           0|          3|\n",
            "|2012|United States|         2|           1|           0|          3|\n",
            "|2012|United States|         1|           2|           0|          3|\n",
            "|2012|United States|         2|           1|           0|          3|\n",
            "|2012|United States|         3|           0|           0|          3|\n",
            "|2008|United States|         2|           1|           0|          3|\n",
            "+----+-------------+----------+------------+------------+-----------+\n",
            "only showing top 20 rows\n",
            "\n"
          ]
        }
      ]
    },
    {
      "cell_type": "code",
      "source": [
        "dfx=df_new_2.groupBy('country','year').sum('gold_medal','silver_medal','bronze_medal','total_medal')\n",
        "dfx.orderBy(f.asc('year')).show()"
      ],
      "metadata": {
        "colab": {
          "base_uri": "https://localhost:8080/"
        },
        "id": "AS06Htg_Lc6m",
        "outputId": "6755a0c1-1662-440b-b4ee-b0978e45d751"
      },
      "execution_count": 45,
      "outputs": [
        {
          "output_type": "stream",
          "name": "stdout",
          "text": [
            "+-------------+----+---------------+-----------------+-----------------+----------------+\n",
            "|      country|year|sum(gold_medal)|sum(silver_medal)|sum(bronze_medal)|sum(total_medal)|\n",
            "+-------------+----+---------------+-----------------+-----------------+----------------+\n",
            "|United States|2000|            130|               61|               52|             243|\n",
            "|United States|2002|             11|               58|               15|              84|\n",
            "|United States|2004|            118|               75|               72|             265|\n",
            "|United States|2006|              9|               11|               32|              52|\n",
            "|United States|2008|            127|              109|               81|             317|\n",
            "|United States|2010|             12|               63|               22|              97|\n",
            "|United States|2012|            145|               63|               46|             254|\n",
            "+-------------+----+---------------+-----------------+-----------------+----------------+\n",
            "\n"
          ]
        }
      ]
    },
    {
      "cell_type": "markdown",
      "source": [
        "* **Find the total number of medals won by each country.**"
      ],
      "metadata": {
        "id": "lyzGcuriMRIY"
      }
    },
    {
      "cell_type": "code",
      "source": [
        "dfs=df.groupBy('country').sum('total_medal')\n",
        "dfs.orderBy(f.desc('sum(total_medal)')).show()\n",
        "#To solve this I have grouped by total no.of medals with country and then ordered the result of this in descending order of total no. of medals"
      ],
      "metadata": {
        "colab": {
          "base_uri": "https://localhost:8080/"
        },
        "id": "zwzTikgpMaMX",
        "outputId": "353dcafa-2090-4437-e375-6296e1f4d4e5"
      },
      "execution_count": 46,
      "outputs": [
        {
          "output_type": "stream",
          "name": "stdout",
          "text": [
            "+-------------+----------------+\n",
            "|      country|sum(total_medal)|\n",
            "+-------------+----------------+\n",
            "|United States|            1312|\n",
            "|       Russia|             768|\n",
            "|      Germany|             629|\n",
            "|    Australia|             609|\n",
            "|        China|             530|\n",
            "|       Canada|             370|\n",
            "|        Italy|             331|\n",
            "|Great Britain|             322|\n",
            "|       France|             318|\n",
            "|  Netherlands|             318|\n",
            "|  South Korea|             308|\n",
            "|        Japan|             282|\n",
            "|       Brazil|             221|\n",
            "|        Spain|             205|\n",
            "|       Norway|             192|\n",
            "|         Cuba|             188|\n",
            "|       Sweden|             181|\n",
            "|      Hungary|             145|\n",
            "|      Ukraine|             143|\n",
            "|    Argentina|             141|\n",
            "+-------------+----------------+\n",
            "only showing top 20 rows\n",
            "\n"
          ]
        }
      ]
    },
    {
      "cell_type": "markdown",
      "source": [
        "* **Who was the oldest athlete in the olympics and which country was he/she from?**"
      ],
      "metadata": {
        "id": "Iu2q0jGVM32r"
      }
    },
    {
      "cell_type": "code",
      "source": [
        "df.agg({'age':'max'}).show()\n",
        "\"\"\"To solve this first I calculated maximum value of age & then filtered the data for that value and displayed name,age and country for that value which gives\n",
        " me the name of oldest athlete in olympics\"\"\""
      ],
      "metadata": {
        "colab": {
          "base_uri": "https://localhost:8080/"
        },
        "id": "mvJhlgVNM4lY",
        "outputId": "2548188f-b47a-45ff-ecf7-8576aae7b9d9"
      },
      "execution_count": null,
      "outputs": [
        {
          "output_type": "stream",
          "name": "stdout",
          "text": [
            "+--------+\n",
            "|max(age)|\n",
            "+--------+\n",
            "|    61.0|\n",
            "+--------+\n",
            "\n"
          ]
        }
      ]
    },
    {
      "cell_type": "code",
      "source": [
        "ddf=df.filter(df.age==61) \n",
        "df_old=ddf.select('name','age','country')\n",
        "df_old.show()"
      ],
      "metadata": {
        "colab": {
          "base_uri": "https://localhost:8080/"
        },
        "id": "SPI5mXbwNwfL",
        "outputId": "9a7406ec-cd12-4939-b719-351d2c2084ae"
      },
      "execution_count": 47,
      "outputs": [
        {
          "output_type": "stream",
          "name": "stdout",
          "text": [
            "+----------+----+-------+\n",
            "|      name| age|country|\n",
            "+----------+----+-------+\n",
            "|Ian Millar|61.0| Canada|\n",
            "+----------+----+-------+\n",
            "\n"
          ]
        }
      ]
    },
    {
      "cell_type": "code",
      "source": [
        "ddf1=df.where(df.age==61).select('name','age','country')\n",
        "ddf1.show() #alternative code for the above question"
      ],
      "metadata": {
        "colab": {
          "base_uri": "https://localhost:8080/"
        },
        "id": "el1q21RwPA5H",
        "outputId": "83740385-98a1-403b-8ab1-274d7c323d27"
      },
      "execution_count": null,
      "outputs": [
        {
          "output_type": "stream",
          "name": "stdout",
          "text": [
            "+----------+----+-------+\n",
            "|      name| age|country|\n",
            "+----------+----+-------+\n",
            "|Ian Millar|61.0| Canada|\n",
            "+----------+----+-------+\n",
            "\n"
          ]
        }
      ]
    }
  ]
}